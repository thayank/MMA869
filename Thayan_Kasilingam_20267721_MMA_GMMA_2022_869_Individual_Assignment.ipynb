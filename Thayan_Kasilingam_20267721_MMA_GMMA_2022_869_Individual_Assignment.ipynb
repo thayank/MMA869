{
  "nbformat": 4,
  "nbformat_minor": 0,
  "metadata": {
    "kernelspec": {
      "name": "python3",
      "display_name": "Python 3"
    },
    "colab": {
      "name": "Thayan Kasilingam 20267721 MMA/GMMA 2022 869 Individual Assignment.ipynb",
      "provenance": [],
      "collapsed_sections": []
    }
  },
  "cells": [
    {
      "cell_type": "markdown",
      "metadata": {
        "id": "HKmorPdno_n_"
      },
      "source": [
        "# MMA/GMMA/MMAI 869: Individual Assignment\n",
        "\n",
        "Version 1: Updated September 27, 2021\n",
        "\n",
        "<font color='red'>\\# TODO: fill in the below</font>\n",
        "\n",
        "- [Thayan, Kasilingam]\n",
        "- [20267721]\n",
        "- [Section 2]\n",
        "- [The Series of Unfortunate Events]\n",
        "- [12/12/2022]"
      ]
    },
    {
      "cell_type": "markdown",
      "metadata": {
        "id": "emfFtv4aHBI1"
      },
      "source": [
        "# Assignment Instructions\n",
        "\n",
        "This assignment contains four questions. The questions are fully contained in this Google Colab Notebook. \n",
        "\n",
        "You are to make a copy of this Notebook and edit the copy to provide your answers. You are to complete the assignment entirely within Google Colab. Why?\n",
        "\n",
        "- It gives you practice using cloud-based interactive notebook environments (which is a popular workflow)\n",
        "- It is easier for you to manage the environment (e.g., installing packages, etc.)\n",
        "- Google Colab has nice, beefy machines, so you don't have to worry about running out of memory on your local computer.\n",
        "- It will be easier for the TA to help you debug your code if you need help\n",
        "- It will be easier for the TA to mark/run your code\n",
        "\n",
        "Some parts of this assigment require you to write code. Use Python or R. For Python, you may use standard Python libraries, including `scikit-learn`, `pandas`, `numpy`, and `scipy`. For R, you may use `dplyr`, `caret`, `ggplot2`, `rpart` and other standard libraries.\n",
        "\n",
        "Some parts of this assignment require text responses. In these cases, type your response in the Notebook cell indicated. Use English. Use proper grammar, spelling, and punctuation. Be professional and clear. Be complete, but not overly-verbose. Feel free to use [Markdown syntax](https://www.markdownguide.org/basic-syntax/) to format your answer (i.e., add bold, italics, lists, tables).\n",
        "\n",
        "## What to Submit to the Course Portal\n",
        "\n",
        "- Export your completed Notebook as a PDF file by clicking File->Print->Save as PDF.\n",
        "- Please do not submit the Notebook file (`.ipynb`) to the course portal. \n",
        "- Please submit the PDF export of the Notebook. \n",
        "   - Please name the PDF file `2022_869_FirstnameLastName.pdf`\n",
        "      - E.g., `2022_869_StephenThomas.pdf`\n",
        "   - Please make sure you have run all the cells so we can see the output!\n",
        "   - Best practice: Before exporting to PDF click Runtime->Restart and run all.\n",
        "\n"
      ]
    },
    {
      "cell_type": "markdown",
      "metadata": {
        "id": "oZFTCX4DqmRO"
      },
      "source": [
        "# Preliminaries: Inspect and Set up environment\n",
        "\n",
        "No action is required on your part in this section. These cells print out helpful information about the environment, just in case."
      ]
    },
    {
      "cell_type": "code",
      "metadata": {
        "id": "xj34Jz-Do_oK"
      },
      "source": [
        "import datetime\n",
        "import pandas as pd\n",
        "import numpy as np"
      ],
      "execution_count": null,
      "outputs": []
    },
    {
      "cell_type": "code",
      "metadata": {
        "id": "mqQ_XOKyXTS6",
        "colab": {
          "base_uri": "https://localhost:8080/"
        },
        "outputId": "4969e232-bd4e-47fc-d73e-c3b0b83e5727"
      },
      "source": [
        "print(datetime.datetime.now())"
      ],
      "execution_count": null,
      "outputs": [
        {
          "output_type": "stream",
          "name": "stdout",
          "text": [
            "2021-12-12 15:46:33.998861\n"
          ]
        }
      ]
    },
    {
      "cell_type": "code",
      "metadata": {
        "colab": {
          "base_uri": "https://localhost:8080/"
        },
        "id": "LfOMt1lErLhZ",
        "outputId": "ce4e55bb-da34-48b8-de99-917c5a4bf1c9"
      },
      "source": [
        "!which python"
      ],
      "execution_count": null,
      "outputs": [
        {
          "output_type": "stream",
          "name": "stdout",
          "text": [
            "/usr/local/bin/python\n"
          ]
        }
      ]
    },
    {
      "cell_type": "code",
      "metadata": {
        "colab": {
          "base_uri": "https://localhost:8080/"
        },
        "id": "aub2w1-arM5K",
        "outputId": "435856fa-3044-4057-94b7-42fa778cce16"
      },
      "source": [
        "!python --version"
      ],
      "execution_count": null,
      "outputs": [
        {
          "output_type": "stream",
          "name": "stdout",
          "text": [
            "Python 3.7.12\n"
          ]
        }
      ]
    },
    {
      "cell_type": "code",
      "metadata": {
        "colab": {
          "base_uri": "https://localhost:8080/"
        },
        "id": "E9Y_n_8UrO9i",
        "outputId": "86f56fc6-23ec-4a7f-8fcd-4328ca2379fa"
      },
      "source": [
        "!echo $PYTHONPATH"
      ],
      "execution_count": null,
      "outputs": [
        {
          "output_type": "stream",
          "name": "stdout",
          "text": [
            "/env/python\n"
          ]
        }
      ]
    },
    {
      "cell_type": "code",
      "metadata": {
        "id": "-qyD7Jl0Gw1E"
      },
      "source": [
        "# TODO: install any packages you need to here. For example:\n",
        "import matplotlib.pyplot as plt\n",
        "from sklearn.metrics import silhouette_score, silhouette_samples,calinski_harabasz_score\n",
        "from sklearn.preprocessing import StandardScaler\n",
        "from sklearn.preprocessing import MinMaxScaler\n",
        "from sklearn.cluster import KMeans, DBSCAN, AgglomerativeClustering\n",
        "from sklearn.mixture import GaussianMixture\n",
        "from sklearn.tree import DecisionTreeClassifier\n",
        "from sklearn import metrics\n",
        "import numpy as np\n",
        "from sklearn.cluster import DBSCAN\n",
        "from pandas import DataFrame\n",
        "import scipy.cluster.hierarchy as sch\n",
        "from matplotlib.pyplot import figure\n",
        "import seaborn as sns; sns.set()"
      ],
      "execution_count": null,
      "outputs": []
    },
    {
      "cell_type": "markdown",
      "metadata": {
        "id": "RLlBjIyS2o54"
      },
      "source": [
        "# Question 1: Uncle Steve's Diamonds"
      ]
    },
    {
      "cell_type": "markdown",
      "metadata": {
        "id": "qj1NSQelo_oN"
      },
      "source": [
        "## Instructions\n",
        "\n",
        "You work at a local jewelry store named *Uncle Steve's Diamonds*. You started as a janitor, but you’ve recently been promoted to senior data analyst! Congratulations.\n",
        "\n",
        "Uncle Steve, the store's owner, needs to better understand the store's customers. In particular, he wants to know what kind of customers shop at the store. He wants to know the main types of *customer personas*. Once he knows these, he will contemplate ways to better market to each persona, better satisfy each persona, better cater to each persona, increase the loyalty of each persona, etc. But first, he must know the personas.\n",
        "\n",
        "You want to help Uncle Steve. Using sneaky magic (and the help of Environics), you've collected four useful features for a subset of the customers: age, income, spending score (i.e., a score based on how much they’ve spent at the store in total), and savings (i.e., how much money they have in their personal bank account). \n",
        "\n",
        "**Your tasks**\n",
        "\n",
        "1. Pick a clustering algorithm (the [`sklearn.cluster`](https://scikit-learn.org/stable/modules/classes.html#module-sklearn.cluster) module has many good choices, including [`KMeans`](https://scikit-learn.org/stable/modules/generated/sklearn.cluster.KMeans.html#sklearn.cluster.KMeans), [`DBSCAN`](https://scikit-learn.org/stable/modules/generated/sklearn.cluster.DBSCAN.html#sklearn.cluster.DBSCAN), and [`AgglomerativeClustering`](https://scikit-learn.org/stable/modules/generated/sklearn.cluster.AgglomerativeClustering.html#sklearn.cluster.AgglomerativeClustering) (aka Hierarchical)). (Note that another popular implementation of the hierarchical algorithm can be found in SciPy's [`scipy.cluster.hierarchy.linkage`](https://docs.scipy.org/doc/scipy/reference/generated/scipy.cluster.hierarchy.linkage.html).) Don't spend a lot of time thinking about which algorithm to choose - just pick one. Cluster the customers as best as you can, within reason. That is, try different feature preprocessing steps, hyperparameter values, and/or distance metrics. You don't need to try every posssible combination, but try a few at least. Measure how good each  model configuration is by calculating an internal validation metric (e.g., [`calinski_harabasz_score`](https://scikit-learn.org/stable/modules/generated/sklearn.metrics.calinski_harabasz_score.html) or [`silhouette_score`](https://scikit-learn.org/stable/modules/generated/sklearn.metrics.silhouette_score.html#sklearn.metrics.silhouette_score)).\n",
        "2. You have some doubts - you're not sure if the algorithm you chose in part 1 is the best algorithm for this dataset/problem. Neither is Uncle Steve. So, choose a different algorithm (any!) and do it all again.\n",
        "3. Which clustering algorithm is \"better\" in this case? Think about charateristics of the algorithm like quality of results, ease of use, speed, interpretability, etc. Choose a \"winner\" and justify to Uncle Steve.\n",
        "4. Interpret the clusters of the winning model. That is, describe, in words, a *persona* that accurately depicts each cluster. Use statistics (e.g., cluster means/distributions), examples (e.g., exemplar instances from each cluster), and/or visualizations (e.g., relative importance plots, snakeplots) to get started. Human judgement and creativity will be necessary. This is where it all comes together. Be descriptive and *help Uncle Steve understand his customers better*. Please!\n",
        "\n",
        "**Marking**\n",
        "\n",
        "The coding parts (i.e., 1 and 2) will be marked based on:\n",
        "\n",
        "- *Correctness*. Code clearly and fully performs the task specified.\n",
        "- *Reproducibility*. Code is fully reproducible. I.e., you (and I) are able to run this Notebook again and again, from top to bottom, and get the same results each time.\n",
        "- *Style*. Code is organized. All parts commented with clear reasoning and rationale. No old code laying around. Code easy to follow.\n",
        "\n",
        "\n",
        "Parts 3 and 4 will be marked on:\n",
        "\n",
        "- *Quality*. Response is well-justified and convincing. Responses uses facts and data where possible.\n",
        "- *Style*. Response uses proper grammar, spelling, and punctuation. Response is clear and professional. Response is complete, but not overly-verbose. Response follows length guidelines.\n",
        "\n",
        "\n",
        "**Tips**\n",
        "\n",
        "- Since clustering is an unsupervised ML technique, you don't need to split the data into training/validation/test or anything like that. Phew!\n",
        "- On the flip side, since clustering is unsupervised, you will never know the \"true\" clusters, and so you will never know if a given algorithm is \"correct.\" There really is no notion of \"correctness\" - only \"usefullness.\"\n",
        "- Many online clustering tutorials (including some from Uncle Steve) create flashy visualizations of the clusters by plotting the instances on a 2-D graph and coloring each point by the cluster ID. This is really nice and all, but it can only work if your dataset only has exactly two features - no more, no less. This dataset has more than two features, so you cannot use this technique. (But that's OK - you don't need to use this technique.) \n",
        "- Must you use all four features in the clustering? Not necessarily, no. But \"throwing away\" quality data, for no reason, is unlikely to improve a model.\n",
        "- Some people have success applying a dimensionality reduction technique (like [`sklearn.decomposition.PCA`](https://scikit-learn.org/stable/modules/generated/sklearn.decomposition.PCA.html)) to the features before clustering. You may do this if you wish, although it may not be as helpful in this case because there are only four features to begin with.\n",
        "- If you apply a transformation (e.g., [`MinMaxScaler`](https://scikit-learn.org/stable/modules/generated/sklearn.preprocessing.MinMaxScaler.html) or [`StandardScaler`](https://scikit-learn.org/stable/modules/generated/sklearn.preprocessing.StandardScaler.html#sklearn.preprocessing.StandardScaler)) to the features before clustering, you may have difficulty interpretting the means of the clusters (e.g., what is a mean Age of 0.2234??). There are two options to fix this: first, you can always reverse a transformation with the `inverse_transform` method. Second, you can just use the original dataset (i.e., before any prepropoceesing) during the interpreation step.\n",
        "- You cannot change the distance metric for K-Means. (This is for theoretical reasons: K-Means only works/makes sense with Euclidean distance.)\n"
      ]
    },
    {
      "cell_type": "markdown",
      "metadata": {
        "id": "Yww0-vtpOw7z"
      },
      "source": [
        "## 1.0: Load data "
      ]
    },
    {
      "cell_type": "code",
      "metadata": {
        "colab": {
          "base_uri": "https://localhost:8080/"
        },
        "id": "qVWx2c-DhQYo",
        "outputId": "04b6ddad-e87c-410d-eea8-10c4fe253343"
      },
      "source": [
        "# DO NOT MODIFY THIS CELL\n",
        "df1a = pd.read_csv(\"https://drive.google.com/uc?export=download&id=1thHDCwQK3GijytoSSZNekAsItN_FGHtm\")\n",
        "df1a.info()"
      ],
      "execution_count": null,
      "outputs": [
        {
          "output_type": "stream",
          "name": "stdout",
          "text": [
            "<class 'pandas.core.frame.DataFrame'>\n",
            "RangeIndex: 505 entries, 0 to 504\n",
            "Data columns (total 4 columns):\n",
            " #   Column         Non-Null Count  Dtype  \n",
            "---  ------         --------------  -----  \n",
            " 0   Age            505 non-null    int64  \n",
            " 1   Income         505 non-null    int64  \n",
            " 2   SpendingScore  505 non-null    float64\n",
            " 3   Savings        505 non-null    float64\n",
            "dtypes: float64(2), int64(2)\n",
            "memory usage: 15.9 KB\n"
          ]
        }
      ]
    },
    {
      "cell_type": "code",
      "source": [
        "#To see how the data is structured\n",
        "df1a.describe()"
      ],
      "metadata": {
        "colab": {
          "base_uri": "https://localhost:8080/",
          "height": 300
        },
        "id": "hKZgfrxaU2k2",
        "outputId": "f3a5d73c-f6c8-4970-83c5-6d6548cdd88a"
      },
      "execution_count": null,
      "outputs": [
        {
          "output_type": "execute_result",
          "data": {
            "text/html": [
              "<div>\n",
              "<style scoped>\n",
              "    .dataframe tbody tr th:only-of-type {\n",
              "        vertical-align: middle;\n",
              "    }\n",
              "\n",
              "    .dataframe tbody tr th {\n",
              "        vertical-align: top;\n",
              "    }\n",
              "\n",
              "    .dataframe thead th {\n",
              "        text-align: right;\n",
              "    }\n",
              "</style>\n",
              "<table border=\"1\" class=\"dataframe\">\n",
              "  <thead>\n",
              "    <tr style=\"text-align: right;\">\n",
              "      <th></th>\n",
              "      <th>Age</th>\n",
              "      <th>Income</th>\n",
              "      <th>SpendingScore</th>\n",
              "      <th>Savings</th>\n",
              "    </tr>\n",
              "  </thead>\n",
              "  <tbody>\n",
              "    <tr>\n",
              "      <th>count</th>\n",
              "      <td>505.000000</td>\n",
              "      <td>505.000000</td>\n",
              "      <td>505.000000</td>\n",
              "      <td>505.000000</td>\n",
              "    </tr>\n",
              "    <tr>\n",
              "      <th>mean</th>\n",
              "      <td>59.019802</td>\n",
              "      <td>75513.291089</td>\n",
              "      <td>0.505083</td>\n",
              "      <td>11862.455867</td>\n",
              "    </tr>\n",
              "    <tr>\n",
              "      <th>std</th>\n",
              "      <td>24.140043</td>\n",
              "      <td>35992.922184</td>\n",
              "      <td>0.259634</td>\n",
              "      <td>4949.229253</td>\n",
              "    </tr>\n",
              "    <tr>\n",
              "      <th>min</th>\n",
              "      <td>17.000000</td>\n",
              "      <td>12000.000000</td>\n",
              "      <td>0.000000</td>\n",
              "      <td>0.000000</td>\n",
              "    </tr>\n",
              "    <tr>\n",
              "      <th>25%</th>\n",
              "      <td>34.000000</td>\n",
              "      <td>34529.000000</td>\n",
              "      <td>0.304792</td>\n",
              "      <td>6828.709702</td>\n",
              "    </tr>\n",
              "    <tr>\n",
              "      <th>50%</th>\n",
              "      <td>59.000000</td>\n",
              "      <td>75078.000000</td>\n",
              "      <td>0.368215</td>\n",
              "      <td>14209.932802</td>\n",
              "    </tr>\n",
              "    <tr>\n",
              "      <th>75%</th>\n",
              "      <td>85.000000</td>\n",
              "      <td>107100.000000</td>\n",
              "      <td>0.768279</td>\n",
              "      <td>16047.268331</td>\n",
              "    </tr>\n",
              "    <tr>\n",
              "      <th>max</th>\n",
              "      <td>97.000000</td>\n",
              "      <td>142000.000000</td>\n",
              "      <td>1.000000</td>\n",
              "      <td>20000.000000</td>\n",
              "    </tr>\n",
              "  </tbody>\n",
              "</table>\n",
              "</div>"
            ],
            "text/plain": [
              "              Age         Income  SpendingScore       Savings\n",
              "count  505.000000     505.000000     505.000000    505.000000\n",
              "mean    59.019802   75513.291089       0.505083  11862.455867\n",
              "std     24.140043   35992.922184       0.259634   4949.229253\n",
              "min     17.000000   12000.000000       0.000000      0.000000\n",
              "25%     34.000000   34529.000000       0.304792   6828.709702\n",
              "50%     59.000000   75078.000000       0.368215  14209.932802\n",
              "75%     85.000000  107100.000000       0.768279  16047.268331\n",
              "max     97.000000  142000.000000       1.000000  20000.000000"
            ]
          },
          "metadata": {},
          "execution_count": 21
        }
      ]
    },
    {
      "cell_type": "code",
      "source": [
        "#To check if there is any missing values\n",
        "df1a.isnull().values.any()"
      ],
      "metadata": {
        "colab": {
          "base_uri": "https://localhost:8080/"
        },
        "id": "4bozFWeGU7Ri",
        "outputId": "53d00284-735e-405d-f30c-87281d0d2a59"
      },
      "execution_count": null,
      "outputs": [
        {
          "output_type": "execute_result",
          "data": {
            "text/plain": [
              "False"
            ]
          },
          "metadata": {},
          "execution_count": 22
        }
      ]
    },
    {
      "cell_type": "code",
      "source": [
        "#To visually see the data, please adjust the height if it is too small.\n",
        "sns.pairplot(df1a,height=2,diag_kind=\"kde\")"
      ],
      "metadata": {
        "colab": {
          "base_uri": "https://localhost:8080/",
          "height": 600
        },
        "id": "2DdPHS6RVIgs",
        "outputId": "0e3a9eac-8fa7-4958-a954-a44004e301df"
      },
      "execution_count": null,
      "outputs": [
        {
          "output_type": "execute_result",
          "data": {
            "text/plain": [
              "<seaborn.axisgrid.PairGrid at 0x7f2359b31610>"
            ]
          },
          "metadata": {},
          "execution_count": 23
        },
        {
          "output_type": "display_data",
          "data": {
            "image/png": "[encoded data removed]",
            "text/plain": [
              "<Figure size 576x576 with 20 Axes>"
            ]
          },
          "metadata": {}
        }
      ]
    },
    {
      "cell_type": "code",
      "source": [
        "#To standardize the data\n",
        "scaler = StandardScaler()\n",
        "features = ['Age','Income', 'SpendingScore','Savings']\n",
        "df1a[features] = scaler.fit_transform(df1a[features])\n",
        "df1a.describe()"
      ],
      "metadata": {
        "colab": {
          "base_uri": "https://localhost:8080/",
          "height": 300
        },
        "id": "s_edXS5eVpb8",
        "outputId": "222bac9d-a379-489f-f4da-4c3724a4b452"
      },
      "execution_count": null,
      "outputs": [
        {
          "output_type": "execute_result",
          "data": {
            "text/html": [
              "<div>\n",
              "<style scoped>\n",
              "    .dataframe tbody tr th:only-of-type {\n",
              "        vertical-align: middle;\n",
              "    }\n",
              "\n",
              "    .dataframe tbody tr th {\n",
              "        vertical-align: top;\n",
              "    }\n",
              "\n",
              "    .dataframe thead th {\n",
              "        text-align: right;\n",
              "    }\n",
              "</style>\n",
              "<table border=\"1\" class=\"dataframe\">\n",
              "  <thead>\n",
              "    <tr style=\"text-align: right;\">\n",
              "      <th></th>\n",
              "      <th>Age</th>\n",
              "      <th>Income</th>\n",
              "      <th>SpendingScore</th>\n",
              "      <th>Savings</th>\n",
              "    </tr>\n",
              "  </thead>\n",
              "  <tbody>\n",
              "    <tr>\n",
              "      <th>count</th>\n",
              "      <td>5.050000e+02</td>\n",
              "      <td>5.050000e+02</td>\n",
              "      <td>5.050000e+02</td>\n",
              "      <td>5.050000e+02</td>\n",
              "    </tr>\n",
              "    <tr>\n",
              "      <th>mean</th>\n",
              "      <td>5.672031e-17</td>\n",
              "      <td>-2.638154e-17</td>\n",
              "      <td>-1.954432e-16</td>\n",
              "      <td>-4.058360e-16</td>\n",
              "    </tr>\n",
              "    <tr>\n",
              "      <th>std</th>\n",
              "      <td>1.000992e+00</td>\n",
              "      <td>1.000992e+00</td>\n",
              "      <td>1.000992e+00</td>\n",
              "      <td>1.000992e+00</td>\n",
              "    </tr>\n",
              "    <tr>\n",
              "      <th>min</th>\n",
              "      <td>-1.742394e+00</td>\n",
              "      <td>-1.766355e+00</td>\n",
              "      <td>-1.947295e+00</td>\n",
              "      <td>-2.399206e+00</td>\n",
              "    </tr>\n",
              "    <tr>\n",
              "      <th>25%</th>\n",
              "      <td>-1.037472e+00</td>\n",
              "      <td>-1.139805e+00</td>\n",
              "      <td>-7.722011e-01</td>\n",
              "      <td>-1.018085e+00</td>\n",
              "    </tr>\n",
              "    <tr>\n",
              "      <th>50%</th>\n",
              "      <td>-8.211094e-04</td>\n",
              "      <td>-1.210579e-02</td>\n",
              "      <td>-5.276784e-01</td>\n",
              "      <td>4.747819e-01</td>\n",
              "    </tr>\n",
              "    <tr>\n",
              "      <th>75%</th>\n",
              "      <td>1.077295e+00</td>\n",
              "      <td>8.784513e-01</td>\n",
              "      <td>1.014725e+00</td>\n",
              "      <td>8.463867e-01</td>\n",
              "    </tr>\n",
              "    <tr>\n",
              "      <th>max</th>\n",
              "      <td>1.574888e+00</td>\n",
              "      <td>1.849048e+00</td>\n",
              "      <td>1.908103e+00</td>\n",
              "      <td>1.645835e+00</td>\n",
              "    </tr>\n",
              "  </tbody>\n",
              "</table>\n",
              "</div>"
            ],
            "text/plain": [
              "                Age        Income  SpendingScore       Savings\n",
              "count  5.050000e+02  5.050000e+02   5.050000e+02  5.050000e+02\n",
              "mean   5.672031e-17 -2.638154e-17  -1.954432e-16 -4.058360e-16\n",
              "std    1.000992e+00  1.000992e+00   1.000992e+00  1.000992e+00\n",
              "min   -1.742394e+00 -1.766355e+00  -1.947295e+00 -2.399206e+00\n",
              "25%   -1.037472e+00 -1.139805e+00  -7.722011e-01 -1.018085e+00\n",
              "50%   -8.211094e-04 -1.210579e-02  -5.276784e-01  4.747819e-01\n",
              "75%    1.077295e+00  8.784513e-01   1.014725e+00  8.463867e-01\n",
              "max    1.574888e+00  1.849048e+00   1.908103e+00  1.645835e+00"
            ]
          },
          "metadata": {},
          "execution_count": 24
        }
      ]
    },
    {
      "cell_type": "code",
      "source": [
        "plt.figure();\n",
        "\n",
        "plt.scatter(df1a.iloc[:, 0], df1a.iloc[:, 1], c=\"blue\");\n",
        "plt.title(\"Diamond Data\");\n",
        "plt.xlabel('Income');\n",
        "plt.ylabel('Spending Score');\n",
        "plt.xticks();\n",
        "plt.yticks();"
      ],
      "metadata": {
        "colab": {
          "base_uri": "https://localhost:8080/",
          "height": 301
        },
        "id": "E5O83YjMVttL",
        "outputId": "427ad184-0e54-4c5a-da48-651f156fc13f"
      },
      "execution_count": null,
      "outputs": [
        {
          "output_type": "display_data",
          "data": {
            "image/png": "[encoded data removed]",
            "text/plain": [
              "<Figure size 432x288 with 1 Axes>"
            ]
          },
          "metadata": {}
        }
      ]
    },
    {
      "cell_type": "markdown",
      "metadata": {
        "id": "R04NzckZKbG2"
      },
      "source": [
        "## 1.1: Clustering Algorithm #1"
      ]
    },
    {
      "cell_type": "code",
      "metadata": {
        "id": "Qeavkicwo_oN",
        "colab": {
          "base_uri": "https://localhost:8080/"
        },
        "outputId": "494bf69c-e5fc-4f49-e503-8e79e7f941b8"
      },
      "source": [
        "# First clustering algorithm we will use is KMeans\n",
        "k_means = KMeans(n_clusters=4, random_state=40)\n",
        "k_means.fit(df1a)"
      ],
      "execution_count": null,
      "outputs": [
        {
          "output_type": "execute_result",
          "data": {
            "text/plain": [
              "KMeans(n_clusters=4, random_state=40)"
            ]
          },
          "metadata": {},
          "execution_count": 26
        }
      ]
    },
    {
      "cell_type": "code",
      "source": [
        "k_means.labels_"
      ],
      "metadata": {
        "colab": {
          "base_uri": "https://localhost:8080/"
        },
        "id": "a7GjPUdzV-i3",
        "outputId": "3007c347-db58-4b2a-ed39-d3c211c014e1"
      },
      "execution_count": null,
      "outputs": [
        {
          "output_type": "execute_result",
          "data": {
            "text/plain": [
              "array([1, 1, 1, 1, 2, 3, 1, 2, 2, 2, 0, 0, 0, 0, 1, 0, 1, 2, 2, 0, 0, 0,\n",
              "       1, 2, 0, 3, 3, 1, 2, 1, 1, 1, 2, 1, 0, 1, 2, 1, 0, 0, 1, 2, 3, 1,\n",
              "       1, 3, 0, 3, 0, 1, 2, 0, 3, 2, 1, 2, 0, 2, 2, 2, 2, 2, 2, 1, 1, 1,\n",
              "       2, 3, 3, 1, 1, 0, 2, 2, 0, 1, 0, 1, 1, 3, 1, 0, 1, 2, 2, 0, 0, 1,\n",
              "       1, 1, 1, 1, 3, 2, 1, 3, 0, 1, 1, 0, 0, 3, 0, 3, 0, 2, 2, 0, 0, 1,\n",
              "       2, 0, 1, 0, 0, 0, 1, 0, 3, 2, 0, 2, 2, 2, 0, 0, 1, 2, 1, 1, 0, 1,\n",
              "       0, 1, 3, 2, 0, 3, 1, 0, 2, 1, 1, 3, 1, 3, 1, 0, 1, 2, 1, 0, 2, 1,\n",
              "       2, 0, 0, 1, 2, 1, 0, 2, 1, 0, 2, 0, 2, 1, 0, 1, 2, 1, 0, 1, 2, 1,\n",
              "       1, 2, 2, 2, 1, 1, 0, 3, 3, 2, 0, 1, 1, 1, 0, 2, 1, 1, 1, 2, 3, 0,\n",
              "       2, 2, 2, 0, 1, 0, 1, 0, 1, 2, 3, 1, 2, 2, 2, 2, 1, 2, 0, 3, 0, 2,\n",
              "       1, 1, 0, 2, 0, 3, 0, 1, 1, 2, 1, 1, 2, 1, 1, 1, 0, 1, 0, 0, 3, 1,\n",
              "       1, 1, 0, 1, 0, 2, 3, 3, 3, 2, 1, 0, 2, 2, 0, 0, 1, 1, 0, 1, 1, 2,\n",
              "       1, 2, 0, 3, 1, 0, 2, 1, 2, 2, 0, 1, 2, 2, 1, 1, 2, 0, 0, 0, 0, 2,\n",
              "       2, 0, 0, 2, 2, 3, 1, 0, 0, 1, 0, 2, 2, 0, 1, 0, 2, 1, 0, 3, 1, 2,\n",
              "       0, 0, 2, 0, 0, 1, 2, 0, 1, 1, 2, 0, 2, 0, 2, 0, 2, 2, 0, 2, 0, 1,\n",
              "       0, 1, 1, 0, 0, 2, 2, 3, 3, 0, 2, 3, 2, 0, 1, 1, 1, 2, 2, 0, 0, 0,\n",
              "       0, 0, 1, 0, 3, 2, 1, 2, 3, 1, 2, 2, 1, 2, 0, 1, 0, 0, 0, 1, 2, 2,\n",
              "       2, 2, 2, 0, 0, 2, 1, 0, 1, 0, 2, 2, 1, 2, 2, 1, 2, 2, 0, 2, 1, 0,\n",
              "       3, 0, 1, 2, 0, 1, 1, 1, 2, 0, 3, 0, 1, 0, 1, 1, 3, 0, 0, 3, 0, 0,\n",
              "       2, 1, 2, 0, 2, 0, 1, 1, 2, 0, 0, 2, 0, 1, 1, 0, 1, 2, 1, 0, 1, 2,\n",
              "       1, 2, 3, 0, 0, 3, 0, 0, 2, 2, 1, 3, 1, 0, 0, 0, 3, 0, 3, 2, 0, 0,\n",
              "       1, 0, 2, 2, 3, 1, 0, 1, 1, 0, 1, 1, 1, 2, 0, 0, 1, 1, 1, 2, 0, 2,\n",
              "       2, 2, 2, 3, 2, 2, 2, 1, 1, 2, 2, 1, 3, 2, 0, 3, 0, 2, 2, 2, 2],\n",
              "      dtype=int32)"
            ]
          },
          "metadata": {},
          "execution_count": 27
        }
      ]
    },
    {
      "cell_type": "code",
      "source": [
        "# Let's look at the centers\n",
        "k_means.cluster_centers_"
      ],
      "metadata": {
        "colab": {
          "base_uri": "https://localhost:8080/"
        },
        "id": "xCIyDTyyWAc4",
        "outputId": "7eff9dd7-391d-435c-a536-0c31592f52cb"
      },
      "execution_count": null,
      "outputs": [
        {
          "output_type": "execute_result",
          "data": {
            "text/plain": [
              "array([[-0.72276928,  0.89502598, -0.90658925,  0.62188649],\n",
              "       [ 0.03879611, -0.08524639,  1.02721559, -1.00569483],\n",
              "       [ 1.19238486, -1.32510593, -0.67963841,  0.97016358],\n",
              "       [-1.44466803,  1.46050665,  1.51057952, -1.57249636]])"
            ]
          },
          "metadata": {},
          "execution_count": 28
        }
      ]
    },
    {
      "cell_type": "code",
      "source": [
        "# WCSS == Inertia\n",
        "k_means.inertia_"
      ],
      "metadata": {
        "colab": {
          "base_uri": "https://localhost:8080/"
        },
        "id": "Mj7On18iWBun",
        "outputId": "9e306c28-79ce-486a-e39d-0b8929e0028e"
      },
      "execution_count": null,
      "outputs": [
        {
          "output_type": "execute_result",
          "data": {
            "text/plain": [
              "189.70178796659565"
            ]
          },
          "metadata": {},
          "execution_count": 29
        }
      ]
    },
    {
      "cell_type": "code",
      "source": [
        "sample_silhouette_values = silhouette_samples(df1a, k_means.labels_)\n",
        "sizes = 100*sample_silhouette_values\n",
        "\n",
        "plt.figure();\n",
        "\n",
        "plt.scatter(df1a.iloc[:, 0], df1a.iloc[:, 1], s=sizes, c=k_means.labels_)\n",
        "plt.scatter(k_means.cluster_centers_[:, 0], k_means.cluster_centers_[:, 1], marker='x', c=\"black\")\n",
        "\n",
        "plt.title(\"K-Means (Dot Size = Silhouette Distance)\");\n",
        "plt.xlabel('Income');\n",
        "plt.ylabel('Spending Score');"
      ],
      "metadata": {
        "colab": {
          "base_uri": "https://localhost:8080/",
          "height": 301
        },
        "id": "Hk_ymiYaWEvE",
        "outputId": "d9658ea7-3439-4fdb-af3e-a362d3faf48e"
      },
      "execution_count": null,
      "outputs": [
        {
          "output_type": "display_data",
          "data": {
            "image/png": "[encoded data removed]",
            "text/plain": [
              "<Figure size 432x288 with 1 Axes>"
            ]
          },
          "metadata": {}
        }
      ]
    },
    {
      "cell_type": "code",
      "source": [
        "sample_silhouette_values = silhouette_samples(df1a, k_means.labels_)\n",
        "\n",
        "X_tmp = df1a.copy()\n",
        "X_tmp['Cluster ID'] = k_means.labels_\n",
        "\n",
        "X_tmp['Silhouette'] = sample_silhouette_values\n",
        "X_tmp = X_tmp.sort_values(['Silhouette'])\n",
        "X_tmp.head()\n",
        "X_tmp.tail()"
      ],
      "metadata": {
        "colab": {
          "base_uri": "https://localhost:8080/",
          "height": 206
        },
        "id": "u8uq3NcWWFzm",
        "outputId": "88bd2da3-31cf-4cfa-d201-1ed42bfaf19b"
      },
      "execution_count": null,
      "outputs": [
        {
          "output_type": "execute_result",
          "data": {
            "text/html": [
              "<div>\n",
              "<style scoped>\n",
              "    .dataframe tbody tr th:only-of-type {\n",
              "        vertical-align: middle;\n",
              "    }\n",
              "\n",
              "    .dataframe tbody tr th {\n",
              "        vertical-align: top;\n",
              "    }\n",
              "\n",
              "    .dataframe thead th {\n",
              "        text-align: right;\n",
              "    }\n",
              "</style>\n",
              "<table border=\"1\" class=\"dataframe\">\n",
              "  <thead>\n",
              "    <tr style=\"text-align: right;\">\n",
              "      <th></th>\n",
              "      <th>Age</th>\n",
              "      <th>Income</th>\n",
              "      <th>SpendingScore</th>\n",
              "      <th>Savings</th>\n",
              "      <th>Cluster ID</th>\n",
              "      <th>Silhouette</th>\n",
              "    </tr>\n",
              "  </thead>\n",
              "  <tbody>\n",
              "    <tr>\n",
              "      <th>464</th>\n",
              "      <td>1.118762</td>\n",
              "      <td>-1.329586</td>\n",
              "      <td>-0.677416</td>\n",
              "      <td>1.065545</td>\n",
              "      <td>2</td>\n",
              "      <td>0.879878</td>\n",
              "    </tr>\n",
              "    <tr>\n",
              "      <th>272</th>\n",
              "      <td>1.326092</td>\n",
              "      <td>-1.365212</td>\n",
              "      <td>-0.715925</td>\n",
              "      <td>0.938250</td>\n",
              "      <td>2</td>\n",
              "      <td>0.880975</td>\n",
              "    </tr>\n",
              "    <tr>\n",
              "      <th>121</th>\n",
              "      <td>1.201694</td>\n",
              "      <td>-1.374445</td>\n",
              "      <td>-0.741044</td>\n",
              "      <td>1.060476</td>\n",
              "      <td>2</td>\n",
              "      <td>0.883030</td>\n",
              "    </tr>\n",
              "    <tr>\n",
              "      <th>379</th>\n",
              "      <td>1.243160</td>\n",
              "      <td>-1.397806</td>\n",
              "      <td>-0.706762</td>\n",
              "      <td>0.945914</td>\n",
              "      <td>2</td>\n",
              "      <td>0.885550</td>\n",
              "    </tr>\n",
              "    <tr>\n",
              "      <th>335</th>\n",
              "      <td>1.243160</td>\n",
              "      <td>-1.350862</td>\n",
              "      <td>-0.690416</td>\n",
              "      <td>0.949109</td>\n",
              "      <td>2</td>\n",
              "      <td>0.886526</td>\n",
              "    </tr>\n",
              "  </tbody>\n",
              "</table>\n",
              "</div>"
            ],
            "text/plain": [
              "          Age    Income  SpendingScore   Savings  Cluster ID  Silhouette\n",
              "464  1.118762 -1.329586      -0.677416  1.065545           2    0.879878\n",
              "272  1.326092 -1.365212      -0.715925  0.938250           2    0.880975\n",
              "121  1.201694 -1.374445      -0.741044  1.060476           2    0.883030\n",
              "379  1.243160 -1.397806      -0.706762  0.945914           2    0.885550\n",
              "335  1.243160 -1.350862      -0.690416  0.949109           2    0.886526"
            ]
          },
          "metadata": {},
          "execution_count": 31
        }
      ]
    },
    {
      "cell_type": "code",
      "source": [
        "#To undo the impacts of scaling that was done above.\n",
        "scaler.inverse_transform(k_means.cluster_centers_)"
      ],
      "metadata": {
        "colab": {
          "base_uri": "https://localhost:8080/"
        },
        "id": "Sr0pp09SWIT2",
        "outputId": "9c76c7fe-6211-496e-fee6-d3e6baa395d1"
      },
      "execution_count": null,
      "outputs": [
        {
          "output_type": "execute_result",
          "data": {
            "text/plain": [
              "array([[4.15894040e+01, 1.07695980e+05, 2.69934734e-01, 1.49372658e+04],\n",
              "       [5.99554140e+01, 7.24480637e+04, 7.71518368e-01, 6.88997219e+03],\n",
              "       [8.77755102e+01, 2.78661020e+04, 3.28800461e-01, 1.66592614e+04],\n",
              "       [2.41800000e+01, 1.28029120e+05, 8.96891640e-01, 4.08752031e+03]])"
            ]
          },
          "metadata": {},
          "execution_count": 32
        }
      ]
    },
    {
      "cell_type": "code",
      "source": [
        "# Let's look at some example rows in each.\n",
        "for label in set(k_means.labels_):\n",
        "    print('\\nCluster {}:'.format(label))\n",
        "    print(scaler.inverse_transform(df1a[k_means.labels_==label].head()))"
      ],
      "metadata": {
        "colab": {
          "base_uri": "https://localhost:8080/"
        },
        "id": "enkADpzTWNg3",
        "outputId": "12ba9c37-bb10-4e2d-c621-01ff3f7663c5"
      },
      "execution_count": null,
      "outputs": [
        {
          "output_type": "stream",
          "name": "stdout",
          "text": [
            "\n",
            "Cluster 0:\n",
            "[[8.50000000e+01 1.11389000e+05 3.67953622e-02 1.60092378e+04]\n",
            " [3.60000000e+01 9.97800000e+04 2.65432607e-01 1.63984013e+04]\n",
            " [3.00000000e+01 9.99490000e+04 3.44679224e-01 1.36216397e+04]\n",
            " [3.10000000e+01 1.07963000e+05 2.90508633e-01 1.34070814e+04]\n",
            " [9.20000000e+01 1.22879000e+05 6.07240352e-02 1.37096703e+04]]\n",
            "\n",
            "Cluster 1:\n",
            "[[5.80000000e+01 7.77690000e+04 7.91328777e-01 6.55982992e+03]\n",
            " [5.90000000e+01 8.17990000e+04 7.91082047e-01 5.41766143e+03]\n",
            " [6.20000000e+01 7.47510000e+04 7.02656952e-01 9.25899297e+03]\n",
            " [5.90000000e+01 7.43730000e+04 7.65679562e-01 7.34633450e+03]\n",
            " [5.40000000e+01 7.65000000e+04 7.85197850e-01 6.87888425e+03]]\n",
            "\n",
            "Cluster 2:\n",
            "[[8.70000000e+01 1.77600000e+04 3.48777548e-01 1.68695071e+04]\n",
            " [8.70000000e+01 4.25920000e+04 3.55289682e-01 1.80862872e+04]\n",
            " [8.30000000e+01 3.43840000e+04 3.24718682e-01 1.47833791e+04]\n",
            " [8.40000000e+01 2.76930000e+04 3.67062973e-01 1.78795589e+04]\n",
            " [8.70000000e+01 3.14810000e+04 3.17423971e-01 1.61806881e+04]]\n",
            "\n",
            "Cluster 3:\n",
            "[[2.90000000e+01 1.31578000e+05 8.47034103e-01 3.53551435e+03]\n",
            " [3.00000000e+01 1.22788000e+05 8.72872406e-01 5.70614957e+03]\n",
            " [1.70000000e+01 1.34966000e+05 9.07242175e-01 4.12804480e+03]\n",
            " [2.00000000e+01 1.29142000e+05 8.87051994e-01 5.60312103e+03]\n",
            " [1.80000000e+01 1.30813000e+05 8.90891247e-01 5.25643456e+03]]\n"
          ]
        }
      ]
    },
    {
      "cell_type": "code",
      "source": [
        "inertias = {}\n",
        "silhouettes = {}\n",
        "for k in range(2, 11):\n",
        "    kmeans = KMeans(n_clusters=k, random_state=40).fit(df1a)\n",
        "    inertias[k] = kmeans.inertia_ # Inertia: Sum of distances of samples to their closest cluster center\n",
        "    silhouettes[k] = silhouette_score(df1a, kmeans.labels_, metric='euclidean')\n",
        "    \n",
        "\n",
        "plt.figure();\n",
        "plt.plot(list(inertias.keys()), list(inertias.values()));\n",
        "plt.title('K-Means, Elbow Method')\n",
        "plt.xlabel(\"Number of clusters, K\");\n",
        "plt.ylabel(\"Inertia\");\n",
        "\n",
        "\n",
        "plt.figure();\n",
        "plt.plot(list(silhouettes.keys()), list(silhouettes.values()));\n",
        "plt.title('K-Means, Elbow Method')\n",
        "plt.xlabel(\"Number of clusters, K\");\n",
        "plt.ylabel(\"Silhouette\");"
      ],
      "metadata": {
        "colab": {
          "base_uri": "https://localhost:8080/",
          "height": 585
        },
        "id": "Oi-2udwVWSow",
        "outputId": "105a4b85-f31a-4dbb-948e-737e782c4899"
      },
      "execution_count": null,
      "outputs": [
        {
          "output_type": "display_data",
          "data": {
            "image/png": "[encoded data removed]",
            "text/plain": [
              "<Figure size 432x288 with 1 Axes>"
            ]
          },
          "metadata": {}
        },
        {
          "output_type": "display_data",
          "data": {
            "image/png": "[encoded data removed]",
            "text/plain": [
              "<Figure size 432x288 with 1 Axes>"
            ]
          },
          "metadata": {}
        }
      ]
    },
    {
      "cell_type": "code",
      "source": [
        "#Based on the above elbow charts it seems that the optimal # of clusters is 5.\n",
        "k_means = KMeans(n_clusters=5, random_state=40)\n",
        "k_means.fit(df1a)\n",
        "k_means.cluster_centers_"
      ],
      "metadata": {
        "colab": {
          "base_uri": "https://localhost:8080/"
        },
        "id": "LpZ4sASNWVK1",
        "outputId": "1e3bf9cc-ef38-45a6-cfe9-70b8498d6ea6"
      },
      "execution_count": null,
      "outputs": [
        {
          "output_type": "execute_result",
          "data": {
            "text/plain": [
              "array([[-1.08815238,  0.82744102, -0.75240648,  0.6270464 ],\n",
              "       [ 0.03879611, -0.08524639,  1.02721559, -1.00569483],\n",
              "       [ 1.19238486, -1.32510593, -0.67963841,  0.97016358],\n",
              "       [-1.44466803,  1.46050665,  1.51057952, -1.57249636],\n",
              "       [ 1.11876151,  1.23565419, -1.68367042,  0.59588052]])"
            ]
          },
          "metadata": {},
          "execution_count": 36
        }
      ]
    },
    {
      "cell_type": "code",
      "source": [
        "#To check the silhouette score\n",
        "silhouette_score(df1a, k_means.labels_)"
      ],
      "metadata": {
        "colab": {
          "base_uri": "https://localhost:8080/"
        },
        "id": "4VnSRtEhWcVx",
        "outputId": "9956f645-6628-4ac2-c276-f54aeed5a91d"
      },
      "execution_count": null,
      "outputs": [
        {
          "output_type": "execute_result",
          "data": {
            "text/plain": [
              "0.8048976287755765"
            ]
          },
          "metadata": {},
          "execution_count": 37
        }
      ]
    },
    {
      "cell_type": "code",
      "source": [
        "#To check the calinski harabasz score\n",
        "calinski_harabasz_score(df1a, k_means.labels_)"
      ],
      "metadata": {
        "colab": {
          "base_uri": "https://localhost:8080/"
        },
        "id": "Haa9KgkvWeAt",
        "outputId": "96939097-1542-4d46-94b1-796068a02b98"
      },
      "execution_count": null,
      "outputs": [
        {
          "output_type": "execute_result",
          "data": {
            "text/plain": [
              "3671.358018517615"
            ]
          },
          "metadata": {},
          "execution_count": 38
        }
      ]
    },
    {
      "cell_type": "markdown",
      "metadata": {
        "id": "ihVtYBWg1NM6"
      },
      "source": [
        "## 1.2: Clustering Algorithm #2"
      ]
    },
    {
      "cell_type": "code",
      "metadata": {
        "id": "Pu2xugQj1Mci",
        "colab": {
          "base_uri": "https://localhost:8080/"
        },
        "outputId": "b5158816-7eb0-458d-e9a9-fa4ab0edaa9d"
      },
      "source": [
        "# Second clustering algorithm we will use is DBSCAN\n",
        "db = DBSCAN(eps=0.3, min_samples=3)\n",
        "db.fit(df1a)"
      ],
      "execution_count": null,
      "outputs": [
        {
          "output_type": "execute_result",
          "data": {
            "text/plain": [
              "DBSCAN(eps=0.3, min_samples=3)"
            ]
          },
          "metadata": {},
          "execution_count": 39
        }
      ]
    },
    {
      "cell_type": "code",
      "source": [
        "db.labels_"
      ],
      "metadata": {
        "colab": {
          "base_uri": "https://localhost:8080/"
        },
        "id": "LSse24gtXbMB",
        "outputId": "e0c45050-ad3f-4146-fec4-21996f877289"
      },
      "execution_count": null,
      "outputs": [
        {
          "output_type": "execute_result",
          "data": {
            "text/plain": [
              "array([ 0,  0,  0,  0,  1,  2,  0,  1,  1,  1,  3,  4,  4,  4,  0,  3,  0,\n",
              "        1,  1,  3,  4,  3,  0,  1, -1,  2,  2,  0,  1,  0,  0,  0,  1,  0,\n",
              "        4,  0,  1,  0,  4,  4,  0,  1,  2,  0,  0,  2,  3,  2,  4,  0,  1,\n",
              "        4,  2,  1,  0,  1,  4,  1,  1,  1,  1,  1,  1,  0,  0,  0,  1,  2,\n",
              "        2,  0,  0,  4,  1,  1,  4,  0,  4,  0,  0,  2,  0, -1,  0,  1,  1,\n",
              "        4,  4,  0,  0,  0,  0,  0,  2,  1,  0,  2,  4,  0,  0,  4,  4,  2,\n",
              "        4,  2,  4,  1, -1,  4,  4,  0,  1,  4,  0,  4,  4,  4,  0,  4,  2,\n",
              "        1,  4,  1,  1,  1,  4,  3,  0,  1,  0,  0,  4,  0,  4,  0,  2,  1,\n",
              "        3,  2,  0,  4,  1,  0,  0,  2,  0,  2,  0,  3,  0,  1,  0,  4,  1,\n",
              "        0,  1,  3,  4,  0,  1,  0,  4,  1,  0,  4, -1,  4,  1,  0,  4,  0,\n",
              "        1,  0,  4,  0,  1,  0,  0,  1,  1,  1,  0,  0,  4,  2,  2,  1,  4,\n",
              "        0,  0,  0,  4,  1,  0,  0,  0,  1, -1,  4,  1,  1,  1,  4,  0,  4,\n",
              "        0,  4,  0,  1,  2,  0,  1,  1,  1,  1,  0,  1,  4,  2,  4,  1,  0,\n",
              "        0,  4,  1,  4,  2,  4,  0,  0,  1,  0,  0,  1,  0,  0,  0,  4,  0,\n",
              "        4,  4,  2,  0,  0,  0,  3,  0,  4,  1,  2, -1,  2,  1,  0,  4,  1,\n",
              "       -1,  4,  4,  0,  0,  3,  0,  0,  1,  0,  1,  4,  2,  0,  4,  1,  0,\n",
              "        1,  1,  4,  0,  1,  1,  0,  0,  1,  4,  4,  3,  4,  1,  1, -1,  3,\n",
              "        1,  1,  2,  0,  4,  4,  0,  4,  1,  1,  4,  0,  4,  1,  0,  4,  2,\n",
              "        0,  1,  4,  4,  1,  3, -1,  0,  1,  4,  0,  0,  1,  4,  1,  4,  1,\n",
              "        4,  1,  1,  4,  1,  4,  0,  4,  0,  0,  4,  4,  1,  1, -1,  2,  4,\n",
              "        1,  2,  1,  3,  0,  0,  0,  1,  1,  4,  4,  3,  4,  3,  0,  4,  2,\n",
              "        1,  0,  1,  2,  0,  1,  1,  0,  1,  4,  0,  3,  4,  4,  0,  1,  1,\n",
              "        1,  1,  1,  4,  4,  1,  0,  4,  0,  3,  1,  1,  0,  1,  1,  0,  1,\n",
              "        1,  4,  1,  0,  4,  2,  4,  0,  1,  4,  0,  0,  0,  1,  4,  2,  4,\n",
              "        0,  4,  0,  0,  2,  4,  3,  2,  4,  4,  1,  0,  1,  4,  1,  4,  0,\n",
              "        0,  1,  3,  4,  1,  4,  0,  0,  4,  0,  1,  0,  4,  0,  1,  0,  1,\n",
              "        2,  4,  4,  2,  4,  4,  1,  1,  0,  2,  0,  4, -1,  3,  2,  4,  2,\n",
              "        1,  4,  4,  0,  4,  1,  1, -1,  0,  4,  0,  0,  4,  0,  0,  0,  1,\n",
              "        4,  4,  0,  0,  0,  1,  4,  1,  1,  1,  1,  2,  1,  1,  1,  0,  0,\n",
              "        1,  1,  0,  2,  1,  4,  2,  4, -1,  1,  1,  1])"
            ]
          },
          "metadata": {},
          "execution_count": 40
        }
      ]
    },
    {
      "cell_type": "code",
      "source": [
        "silhouette_score(df1a, db.labels_)"
      ],
      "metadata": {
        "colab": {
          "base_uri": "https://localhost:8080/"
        },
        "id": "LClKEo0cXc4q",
        "outputId": "9f5da43d-f2b3-4ba1-b717-c0464043c365"
      },
      "execution_count": null,
      "outputs": [
        {
          "output_type": "execute_result",
          "data": {
            "text/plain": [
              "0.7679653694292776"
            ]
          },
          "metadata": {},
          "execution_count": 41
        }
      ]
    },
    {
      "cell_type": "code",
      "source": [
        "plt.figure();\n",
        "\n",
        "unique_labels = set(db.labels_)\n",
        "colors = [plt.cm.Spectral(each) for each in np.linspace(0, 1, len(unique_labels))];\n",
        "\n",
        "for k in unique_labels:\n",
        "    if k == -1:        # Black used for noise.\n",
        "        col = [0, 0, 0, 1]\n",
        "    else:\n",
        "        col = colors[k]\n",
        "\n",
        "    xy = df1a[db.labels_ == k]\n",
        "    plt.plot(xy.iloc[:, 0], xy.iloc[:, 1], 'o', markerfacecolor=tuple(col), markeredgecolor='k', markersize=10);\n",
        "\n",
        "    \n",
        "plt.title('');\n",
        "plt.title(\"DBSCAN (n_clusters = {:d}, black = outliers)\".format(len(unique_labels)));\n",
        "plt.xlabel('Income');\n",
        "plt.ylabel('Spending Score');"
      ],
      "metadata": {
        "colab": {
          "base_uri": "https://localhost:8080/",
          "height": 301
        },
        "id": "mXDyBM3AXd4-",
        "outputId": "ae0ca955-f187-442d-a758-48a28c5034dc"
      },
      "execution_count": null,
      "outputs": [
        {
          "output_type": "display_data",
          "data": {
            "image/png": "[encoded data removed]",
            "text/plain": [
              "<Figure size 432x288 with 1 Axes>"
            ]
          },
          "metadata": {}
        }
      ]
    },
    {
      "cell_type": "code",
      "source": [
        "def do_and_plot_dbscan(df1a, eps, min_samples):\n",
        "    db = DBSCAN(eps=eps, min_samples=min_samples).fit(df1a)\n",
        "\n",
        "    unique_labels = set(db.labels_)\n",
        "    n_clusters = len(unique_labels) - 1\n",
        "    \n",
        "    if n_clusters <= 1:\n",
        "        #print('eps={}, min_samples={}, n_clusters <= 1. Returning.'.format(eps, min_samples))\n",
        "        #return\n",
        "        sil = -1\n",
        "    else:\n",
        "        sil = silhouette_score(df1a, db.labels_)\n",
        "    \n",
        "    print(\"eps={}, min_samples={}, n_clusters={}, sil={}\".format(eps, min_samples, n_clusters, sil))\n",
        "    \n",
        "    plt.figure();\n",
        "    \n",
        "    colors = [plt.cm.Spectral(each) for each in np.linspace(0, 1, len(unique_labels))];\n",
        "\n",
        "    for k in unique_labels:\n",
        "        if k == -1:        # Black used for noise.\n",
        "            col = [0, 0, 0, 1]\n",
        "        else:\n",
        "            col = colors[k]\n",
        "\n",
        "        xy = df1a[db.labels_ == k]\n",
        "        plt.plot(xy.iloc[:, 0], xy.iloc[:, 1], 'o', markerfacecolor=tuple(col), markeredgecolor='k', markersize=8);\n",
        "\n",
        "\n",
        "    plt.title('');\n",
        "    plt.title(\"DBSCAN (eps={}, min_samples={}): n_clusters = {:d}, sil={:.3f})\".format(eps, min_samples, n_clusters, sil));\n",
        "    plt.xlabel('Income');\n",
        "    plt.ylabel('Spending Score');\n",
        "    #plt.savefig('out/simple_dbscan_{}_{}.png'.format(eps, min_samples))\n",
        "    plt.show()\n",
        "\n",
        "\n",
        "do_and_plot_dbscan(df1a, 0.3, 2)\n",
        "do_and_plot_dbscan(df1a, 0.1, 3)\n",
        "do_and_plot_dbscan(df1a, 0.3, 3)\n",
        "do_and_plot_dbscan(df1a, 0.6, 3)\n",
        "do_and_plot_dbscan(df1a, 0.6, 7)\n",
        "do_and_plot_dbscan(df1a, 0.36, 3)"
      ],
      "metadata": {
        "colab": {
          "base_uri": "https://localhost:8080/",
          "height": 1000
        },
        "id": "n8Y-0pVRXh91",
        "outputId": "2782486a-5377-4ab5-ee29-91607df0ff5b"
      },
      "execution_count": null,
      "outputs": [
        {
          "output_type": "stream",
          "name": "stdout",
          "text": [
            "eps=0.3, min_samples=2, n_clusters=5, sil=0.7679653694292776\n"
          ]
        },
        {
          "output_type": "display_data",
          "data": {
            "image/png": "[encoded data removed]",
            "text/plain": [
              "<Figure size 432x288 with 1 Axes>"
            ]
          },
          "metadata": {}
        },
        {
          "output_type": "stream",
          "name": "stdout",
          "text": [
            "eps=0.1, min_samples=3, n_clusters=14, sil=-0.6313739076946371\n"
          ]
        },
        {
          "output_type": "display_data",
          "data": {
            "image/png": "[encoded data removed]",
            "text/plain": [
              "<Figure size 432x288 with 1 Axes>"
            ]
          },
          "metadata": {}
        },
        {
          "output_type": "stream",
          "name": "stdout",
          "text": [
            "eps=0.3, min_samples=3, n_clusters=5, sil=0.7679653694292776\n"
          ]
        },
        {
          "output_type": "display_data",
          "data": {
            "image/png": "[encoded data removed]",
            "text/plain": [
              "<Figure size 432x288 with 1 Axes>"
            ]
          },
          "metadata": {}
        },
        {
          "output_type": "stream",
          "name": "stdout",
          "text": [
            "eps=0.6, min_samples=3, n_clusters=4, sil=0.8048976287755765\n"
          ]
        },
        {
          "output_type": "display_data",
          "data": {
            "image/png": "[encoded data removed]",
            "text/plain": [
              "<Figure size 432x288 with 1 Axes>"
            ]
          },
          "metadata": {}
        },
        {
          "output_type": "stream",
          "name": "stdout",
          "text": [
            "eps=0.6, min_samples=7, n_clusters=4, sil=0.8048976287755765\n"
          ]
        },
        {
          "output_type": "display_data",
          "data": {
            "image/png": "[encoded data removed]",
            "text/plain": [
              "<Figure size 432x288 with 1 Axes>"
            ]
          },
          "metadata": {}
        },
        {
          "output_type": "stream",
          "name": "stdout",
          "text": [
            "eps=0.36, min_samples=3, n_clusters=5, sil=0.7913054451716924\n"
          ]
        },
        {
          "output_type": "display_data",
          "data": {
            "image/png": "[encoded data removed]",
            "text/plain": [
              "<Figure size 432x288 with 1 Axes>"
            ]
          },
          "metadata": {}
        }
      ]
    },
    {
      "cell_type": "code",
      "source": [
        "#Based on the above charting it seems that an eps=0.6 and min_samples=7 will produce the best score\n",
        "dbsc = DBSCAN(eps=0.6, min_samples=7)\n",
        "dbsc.fit(df1a)"
      ],
      "metadata": {
        "colab": {
          "base_uri": "https://localhost:8080/"
        },
        "id": "ZllJ8PkfXk5b",
        "outputId": "5e541855-3615-4ffb-c6f4-e696a1a9877f"
      },
      "execution_count": null,
      "outputs": [
        {
          "output_type": "execute_result",
          "data": {
            "text/plain": [
              "DBSCAN(eps=0.6, min_samples=7)"
            ]
          },
          "metadata": {},
          "execution_count": 44
        }
      ]
    },
    {
      "cell_type": "code",
      "source": [
        "#To check the silhouette score\n",
        "silhouette_score(df1a, dbsc.labels_)"
      ],
      "metadata": {
        "colab": {
          "base_uri": "https://localhost:8080/"
        },
        "id": "ss4yFRpmZcvm",
        "outputId": "ff78ac5a-711d-4fd7-ad1d-443c2996c545"
      },
      "execution_count": null,
      "outputs": [
        {
          "output_type": "execute_result",
          "data": {
            "text/plain": [
              "0.8048976287755765"
            ]
          },
          "metadata": {},
          "execution_count": 45
        }
      ]
    },
    {
      "cell_type": "code",
      "source": [
        "#To check the calinski harabasz score\n",
        "calinski_harabasz_score(df1a, dbsc.labels_)"
      ],
      "metadata": {
        "colab": {
          "base_uri": "https://localhost:8080/"
        },
        "id": "9HH_tye5ZfBl",
        "outputId": "56787d7d-5e9c-4686-d536-4ef1c8ae1484"
      },
      "execution_count": null,
      "outputs": [
        {
          "output_type": "execute_result",
          "data": {
            "text/plain": [
              "3671.358018517615"
            ]
          },
          "metadata": {},
          "execution_count": 47
        }
      ]
    },
    {
      "cell_type": "markdown",
      "metadata": {
        "id": "6ySJIgNr1Sfy"
      },
      "source": [
        "## 1.3 Model Comparison"
      ]
    },
    {
      "cell_type": "markdown",
      "metadata": {
        "id": "gwQembOT1L6U"
      },
      "source": [
        "*   Kmeans Model:\n",
        "silhouette_score - 0.8048976287755765\n",
        "calinski_harabasz_score - 3671.358018517615\n",
        "*   BDSCAN Model:\n",
        "silhouette_score - 0.8048976287755765\n",
        "calinski_harabasz_score - 3671.358018517615\n",
        "\n",
        "As you can see the results from both models were exactly the same, which is quite unusual. But this enables us to look at some non-quantiative metrics to determine which model Uncle Steve should utilize going forward. I would recommend that Uncle Steve go with the DBSCAN model for his usecase and for the following reasons:\n",
        "\n",
        "The model works on the framework of density which means that it forms clusters based on dense data point regions which will help Uncle Steve better understand the types of customers that he has, as they will tend to cluster together.By focusing on data point density, DBSCAN does a good job in identifying outliers which would be useful for Uncle Steve. Since outliers are quite rare, it might not be something that Uncle Steve wants to remove when creating customer clusters. Inversily Uncle Steve can look at those outliers to see if they are high revenue/profit individuals and seek to understand how to get them to be repeat customers (or attract similar customers).\n",
        "\n",
        "DBSCAN unlike KMeans doesnt seek to make clusters spherical which I think can be quite useful as mentioned above. We can also seek to understand why DBSCAN produces non-spherical clusters and see if there are insights that can be achieved.\n",
        "Lastly what I liked about the DBScan is that the number of clusters doesn't need to specified which enables new potential viewpoints to enter, while the KMeans requires the number of clusters. This means that KMeans will operate faster and require less computing power since we are providing some domain insight, but sometimes that isn't always a good thing. Because the \"expert\" might have the wrong perspective on the domain insight which will just drive poor model performance.\n"
      ]
    },
    {
      "cell_type": "markdown",
      "metadata": {
        "id": "MP2EAnCJ1Xta"
      },
      "source": [
        "## 1.4 Personas"
      ]
    },
    {
      "cell_type": "markdown",
      "metadata": {
        "id": "dVewu2TZ1XhK"
      },
      "source": [
        "TODO: Delete this text and insert your answer here.\n",
        "\n",
        "*   Cluster #1: Low Income individuals with a high spend score are individuals that Uncle Steve should look to providing sales on credit, because these individuals like to spend but don't have a lot of money. By lowering their initial payment and monthly payments it will be easier to increase traffic on customers like this. Uncle Steve just needs to ensure that he has the correct credit checks in place. This seems to be one of the smaller portions of Uncle Steve's customer set.\n",
        "\n",
        "*   Cluster #2 Moderately low income individuals with a moderately high spending score are individuals that Uncle Steve should look to improve profitability on. It seems to be one of the larger customer segments and Uncle Steve can look to see how he can try and upsell these customers(going to be hard) by again offering sales on credit. This will enable these individuals to spend above their means and help Uncle Steve grow his business.\n",
        "\n",
        "*   Cluster #3 Average Income and average spend individuals also seems to be a big customer segment for Uncle Steve. These are the customers that Uncle Steve can continue to expand on by seeing what these individuals actually purchase and then driving repeat business through marketing efforts.\n",
        "\n",
        "*   Cluster #4 These are high income earners who don't like to spend a lot. It will be very diffcult to extract further value from these indivuals as they don't seem to like to spend. With Uncle Steve owning a diamond store which is considered a luxury they might not be customers that are looking to come back too often. Promotions can be excuted to drive repeat business but is not encouraged as this will devalue Uncle Steve's business. \n",
        "\n",
        "*   Cluster #5 This is by far Uncle Steve's smallest customer base but might be one of his most profitable. These customers like to spend and have the money to spend it. It is highly encouraged that Uncle Steve provide a high quality relationship with these individuals so that they will be repeat customers for his business. They are customers that Uncle Steve can produce massive profits on as price probably isn't an issue with them.\n",
        "\n"
      ]
    },
    {
      "cell_type": "markdown",
      "metadata": {
        "id": "DYwuYIgczYSv"
      },
      "source": [
        "# Question 2: Uncle Steve's Fine Foods"
      ]
    },
    {
      "cell_type": "markdown",
      "metadata": {
        "id": "4oCr-mTfNG-H"
      },
      "source": [
        "## Instructions\n",
        "\n",
        "Uncle Steve runs a small, local grocery store in Ontario. The store sells all the normal food staples (e.g., bread, milk, cheese, eggs, more cheese, fruits, vegatables, meat, fish, waffles, ice cream, pasta, cereals, drinks), personal care products (e.g., toothpaste, shampoo, hair goo), medicine, and cakes. There's even a little section with flowers and greeting cards! Normal people shop here, and buy normal things in the normal way.\n",
        "\n",
        "Business is OK but Uncle Steve wants more. He's thus on the hunt for customer insights. Given your success at the jewelry store, he has asked you to help him out. \n",
        "\n",
        "He has given you a few years' worth of customer transactions, i.e., sets of items that customers have purchased. You have applied an association rules learning algorithm (like Apriori) to the data, and the algorithm has generated a large set of association rules of the form `{X} -> {Y}`, where `{X}` and `{Y}` are item-sets.\n",
        "\n",
        "Now comes a thought experiment. For each of the following scenarios, state what one of the discovered association rules might be that would meet the stated condition. (Just make up the rule, using your human experience and intuition.) Also, describe whether and why each rule would be considered interesting or uninteresting for Uncle Steve (i.e., is this insight new to him? Would he be able to use it somehow?).\n",
        "\n",
        "Keep each answer to 600 characters or less (including spaces).\n",
        "\n",
        "To get those brain juices going, an example condition and answer is provided below:\n",
        "\n",
        "> Condition: A rule that has high support.\n",
        "\n",
        "> Answer: The rule `{milk} -> {bread}` would have high support, since milk and bread are household staples and a high percentage of transactions would include both `{milk}` and `{bread}`. Uncle Steve would likely not find this rule interesting, because these items are so common, he would have surely already noticed that so many transactions contain them.\n",
        "\n",
        "**Marking**\n",
        "\n",
        "Your responses will be marked as follows:\n",
        "\n",
        "- *Correctness*. Rule meets the specificed condition, and seems plausible in an Ontario grocery store.\n",
        "- *Justification of interestness*. Response clearly describes whether and why the rule would be considered interesting to Uncle Steve.\n",
        "\n",
        "**Tips**\n",
        "\n",
        "- There is no actual data for this question. This question is just a thought exercise. You need to use your intuition, creatitivty, and understanding of the real world. I assume you are familiar with what happens inside of normal grocery stores. We are not using actual data and you do not need to create/generate/find any data. I repeat: there is no data for this question.\n",
        "- The reason this question is having you do a thought experiment, rather than writing and running code to find actual association rules on an actual dataset, is because writing code to find association rules is actually pretty easy. But using your brain to come up with rules that meet certain criteria, on the other hand, is a true test of whether you understand how the algorithm works, what support and confidence mean, and the applicability of rules. The question uses the grocery store context because most, if not all, students should be familiar from personal experience.\n",
        "\n"
      ]
    },
    {
      "cell_type": "markdown",
      "metadata": {
        "id": "3YQsOb6CzYVq"
      },
      "source": [
        "## 2.1: A rule that might have high support and high confidence. "
      ]
    },
    {
      "cell_type": "markdown",
      "metadata": {
        "id": "DzXu1IvK-MEg"
      },
      "source": [
        "The rule {diapers} -> {baby food} would have high support, since both products are for infants and a high percentage of transactions would include both {diapers} & {baby food}. Uncle Steve would not find this interesting because he would have surely already noticed that so many transactions contain them together. "
      ]
    },
    {
      "cell_type": "markdown",
      "metadata": {
        "id": "VNIrAgJk-L4l"
      },
      "source": [
        "## 2.2: A rule that might have reasonably high support but low confidence."
      ]
    },
    {
      "cell_type": "markdown",
      "metadata": {
        "id": "svdzYW3S-LvF"
      },
      "source": [
        "\n",
        "The rule {cheese} -> {crackers} would have high support since both products pairs well with each and a high percentage of transactions would include both {cheese} & {crackers}. However {crackers} are usually non-perishable while {cheese} isn’t and therefore the frequency of buying {cheese} is more than {crackers}, which results in a low confidence. Uncle Steve might find this interesting because he can help move {cheese} that is about to expire by bundling it with {crackers}."
      ]
    },
    {
      "cell_type": "markdown",
      "metadata": {
        "id": "loe--LMz-Ll8"
      },
      "source": [
        "## 2.3: A rule that might have low support and low confidence."
      ]
    },
    {
      "cell_type": "markdown",
      "metadata": {
        "id": "HdyOB5fe-Zgy"
      },
      "source": [
        "The rule {inflated balloons} -> {Spinach} would have low support since {inflated balloons} account for a very small percentage of transactions. This rule will have low confidence because {Spinach} is most likely a frequently bought item. Uncle Steve would probably not find this interesting because there is no way to generate additional sales from this insight. However, if Uncle Steve is actively working to get these two items to be sold together, he should probably redirect his resources to rules."
      ]
    },
    {
      "cell_type": "markdown",
      "metadata": {
        "id": "St2eI3We-ZYs"
      },
      "source": [
        "## 2.4: A rule that might have low support and high confidence."
      ]
    },
    {
      "cell_type": "markdown",
      "metadata": {
        "id": "LcdZc-B1-fE7"
      },
      "source": [
        "The rule {Cake} -> {inflated balloons} would have low support since these products are rarely bought and would likely account for a small percentage of transactions. This rule does have a high confidence as they are usually bought together. Uncle Steve might find this interesting because he knows that the products have a high confidence, he just needs to now figure out how to increase support. He could do this by advertising that his store sells {Cake} & {inflated balloons}."
      ]
    },
    {
      "cell_type": "markdown",
      "metadata": {
        "id": "B_IHoz7f2yIV"
      },
      "source": [
        "# Question 3: Uncle Steve's Credit Union"
      ]
    },
    {
      "cell_type": "markdown",
      "metadata": {
        "id": "WhERdkp_zYBY"
      },
      "source": [
        "## Instructions\n",
        "\n",
        "Uncle Steve has recently opened a new credit union in Kingston, named *Uncle Steve's Credit Union*. He plans to disrupt the local market by instaneously providing credit to customers.\n",
        "\n",
        "The first step in Uncle Steve's master plan is to create a model to predict whether an application has *good risk* or *bad risk*. He has outsourced the creation of this model to you.\n",
        "\n",
        "You are to create a classification model to predict whether a loan applicant has good risk or bad risk. You will use data  that Uncle Steve bought from another credit union (somewhere in Europe, he thinks?) that has around 6000 instances and a number of demographics features (e.g., `Sex`, `DateOfBirth`, `Married`), loan details (e.g., `Amount`, `Purpose`), credit history (e.g., number of loans), as well as an indicator (called `BadCredit` in the dataset) as to whether that person was a bad risk.\n",
        "\n",
        "\n",
        "**Your tasks**\n",
        "\n",
        "To examine the effects of the various ML stages, you are to create the model several times, each time adding more sophistication, and measuring how much the model improved (or not). In particular, you will:\n",
        "\n",
        "0. Split the data in training and testing. Don't touch the testing data again, for any reason, until step 5. We are pretending that the testing data is \"future, unseen data that our model won't see until production.\" I'm serious, don't touch it. I'm watching you!\n",
        "1. Build a baseline model - no feature engineering, no feature selection, no hyperparameter tuning (just use the default settings), nothing fancy. (You may need to do some basic feature transformations, e.g., encoding of categorical features, or dropping of features you do not think will help or do not want to deal with yet.) Measure the performance using K-fold cross validation (recommended: [`sklearn.model_selection.cross_val_score`](https://scikit-learn.org/stable/modules/generated/sklearn.model_selection.cross_val_score.html#sklearn.model_selection.cross_val_score)) on the training data. Use at least 5 folds, but more are better. Choose a [`scoring` parameter](https://scikit-learn.org/stable/modules/model_evaluation.html#scoring-parameter) (i.e., classification metric) that you feel is appropriate for this task. Don't use accuracy. Print the mean score of your model.\n",
        "2. Add a bit of feature engineering. The [`sklearn.preprocessing`](https://scikit-learn.org/stable/modules/classes.html#module-sklearn.preprocessing) module contains many useful transformations. Engineer at least three new features. They don't need to be especially ground-breaking or complicated. Dimensionality reduction techniques like [`sklearn.decomposition.PCA`](https://scikit-learn.org/stable/modules/generated/sklearn.decomposition.PCA.html) are fair game but not required. (If you do use dimensionality reduction techniques, it would only count as \"one\" new feature for the purposes of this assignment, even though I realize that PCA creates many new \"features\" (i.e., principal componentns).) Re-train your baseline model. Measure performance. Compare to step 1.\n",
        "3. Add feature selection. The [`sklearn.feature_selection`](https://scikit-learn.org/stable/modules/classes.html#module-sklearn.feature_selection) has some algorithms for you to choose from. After selecting features, re-train your model, measure performance, and compare to step 2.\n",
        "4. Add hyperparameter tuning. Make reasonable choices and try to find the best (or at least, better) hyperparameters for your estimator and/or transformers. It's probably a good idea to stop using `cross_val_score` at this point and start using [`sklearn.model_selection.GridSearchCV`](https://scikit-learn.org/stable/modules/generated/sklearn.model_selection.GridSearchCV.html#sklearn.model_selection.GridSearchCV) as it is specifically built for this purpose and is more convienient to use. Measure performance and compare to step 3.\n",
        "5. Finally, estimate how well your model will work in production. Use the testing data (our \"future, unseen data\") from step 0. Transform the data as appropriate (easy if you've built a pipeline, a little more difficult if not), use the model from step 4 to get predictions, and measure the performance. How well did we do? \n",
        "\n",
        "\n",
        "**Marking**\n",
        "\n",
        "Each part will be marked for:\n",
        "- *Correctness*. Code clearly and fully performs the task specified.\n",
        "- *Reproducibility*. Code is fully reproducible. I.e., you (and I) should be able to run this Notebook again and again, from top to bottom, and get the same results each and every time.\n",
        "- *Style*. Code is organized. All parts commented with clear reasoning and rationale. No old code laying around. Code easy to follow. \n",
        "\n",
        "\n",
        "**Tips**\n",
        "- The origins of the dataset are a bit of a mystery. Assume the data set is recent (circa 2021) and up-to-date. Assume that column names are correct and accurate.\n",
        "- You don't need to experiment with more than one algorithm/estimator. Just choose one (e.g., [`sklearn.tree.DecisionTreeClassifier`](https://scikit-learn.org/stable/modules/generated/sklearn.tree.DecisionTreeClassifier.html#sklearn.tree.DecisionTreeClassifier), [`sklearn.ensemble.RandomForestClassifier`](https://scikit-learn.org/stable/modules/generated/sklearn.ensemble.RandomForestClassifier.html#sklearn.ensemble.RandomForestClassifier), [`sklearn.linear_model.LogisticRegression`](https://scikit-learn.org/stable/modules/generated/sklearn.linear_model.LogisticRegression.html#sklearn.linear_model.LogisticRegression), [`sklearn.svm.LinearSVC`](https://scikit-learn.org/stable/modules/generated/sklearn.svm.LinearSVC.html#sklearn.svm.LinearSVC), whatever) and stick with it for this question. \n",
        "- There is no minimum accuracy/precision/recall for this question. I.e., your mark will not be based on how good your model is. Rather, you mark will be based on good your process is.\n",
        "- Watch out for data leakage and overfitting. In particular, be sure to `fit()` any estimators and transformers (collectively, *objects*) only to the training data, and then use the objects' `transform()` methods on both the training and testing data. [Data School](https://www.youtube.com/c/dataschool/featured) has a [helpful video](https://www.youtube.com/watch?v=g2XsZdwbCCs) about this. [Pipelines](https://www.youtube.com/watch?v=1Y6O9nCo0-I) are very helpful here and make your code shorter and more robust (at the expense of making it harder to understand), and I recommend using them, but they are not required for this assignment.\n",
        "- Create as many code cells as you need. In general, each cell should do one \"thing.\"\n",
        "-\tDon't print large volumes of output. E.g., don't do: `df.head(100)`\n",
        "\n",
        "\n"
      ]
    },
    {
      "cell_type": "markdown",
      "metadata": {
        "id": "jqm_REd4oouz"
      },
      "source": [
        "## 3.0: Load data and split"
      ]
    },
    {
      "cell_type": "code",
      "metadata": {
        "id": "X6b_BM0Nz9sF",
        "colab": {
          "base_uri": "https://localhost:8080/"
        },
        "outputId": "71abc4be-4bc1-4cb4-8cd4-04e649cf8aad"
      },
      "source": [
        "# DO NOT MODIFY THIS CELL\n",
        "\n",
        "# First, we'll read the provided labeled training data\n",
        "df3 = pd.read_csv(\"https://drive.google.com/uc?export=download&id=1wOhyCnvGeY4jplxI8lZ-bbYN3zLtickf\")\n",
        "df3.info()\n",
        "\n",
        "from sklearn.model_selection import train_test_split\n",
        "\n",
        "X = df3.drop('BadCredit', axis=1) #.select_dtypes(['number'])\n",
        "y = df3['BadCredit']\n",
        "\n",
        "X_train, X_test, y_train, y_test = train_test_split(X, y, test_size=0.2, random_state=42)"
      ],
      "execution_count": null,
      "outputs": [
        {
          "output_type": "stream",
          "name": "stdout",
          "text": [
            "<class 'pandas.core.frame.DataFrame'>\n",
            "RangeIndex: 6000 entries, 0 to 5999\n",
            "Data columns (total 17 columns):\n",
            " #   Column             Non-Null Count  Dtype \n",
            "---  ------             --------------  ----- \n",
            " 0   UserID             6000 non-null   object\n",
            " 1   Sex                6000 non-null   object\n",
            " 2   PreviousDefault    6000 non-null   int64 \n",
            " 3   FirstName          6000 non-null   object\n",
            " 4   LastName           6000 non-null   object\n",
            " 5   NumberPets         6000 non-null   int64 \n",
            " 6   PreviousAccounts   6000 non-null   int64 \n",
            " 7   ResidenceDuration  6000 non-null   int64 \n",
            " 8   Street             6000 non-null   object\n",
            " 9   LicensePlate       6000 non-null   object\n",
            " 10  BadCredit          6000 non-null   int64 \n",
            " 11  Amount             6000 non-null   int64 \n",
            " 12  Married            6000 non-null   int64 \n",
            " 13  Duration           6000 non-null   int64 \n",
            " 14  City               6000 non-null   object\n",
            " 15  Purpose            6000 non-null   object\n",
            " 16  DateOfBirth        6000 non-null   object\n",
            "dtypes: int64(8), object(9)\n",
            "memory usage: 797.0+ KB\n"
          ]
        }
      ]
    },
    {
      "cell_type": "code",
      "source": [
        "#To make sure there are no missing values\n",
        "df3.isnull().values.any()"
      ],
      "metadata": {
        "colab": {
          "base_uri": "https://localhost:8080/"
        },
        "id": "VOxRaE7ThcR8",
        "outputId": "2ef9825f-7367-4f6b-ceaf-12047c7f9416"
      },
      "execution_count": null,
      "outputs": [
        {
          "output_type": "execute_result",
          "data": {
            "text/plain": [
              "False"
            ]
          },
          "metadata": {},
          "execution_count": 49
        }
      ]
    },
    {
      "cell_type": "code",
      "source": [
        "#To see how data is structured. \n",
        "X_train.head()"
      ],
      "metadata": {
        "colab": {
          "base_uri": "https://localhost:8080/",
          "height": 206
        },
        "id": "ffDrUoiNhd0n",
        "outputId": "b67bdda0-a74d-466c-e35b-31a81271fb18"
      },
      "execution_count": null,
      "outputs": [
        {
          "output_type": "execute_result",
          "data": {
            "text/html": [
              "<div>\n",
              "<style scoped>\n",
              "    .dataframe tbody tr th:only-of-type {\n",
              "        vertical-align: middle;\n",
              "    }\n",
              "\n",
              "    .dataframe tbody tr th {\n",
              "        vertical-align: top;\n",
              "    }\n",
              "\n",
              "    .dataframe thead th {\n",
              "        text-align: right;\n",
              "    }\n",
              "</style>\n",
              "<table border=\"1\" class=\"dataframe\">\n",
              "  <thead>\n",
              "    <tr style=\"text-align: right;\">\n",
              "      <th></th>\n",
              "      <th>UserID</th>\n",
              "      <th>Sex</th>\n",
              "      <th>PreviousDefault</th>\n",
              "      <th>FirstName</th>\n",
              "      <th>LastName</th>\n",
              "      <th>NumberPets</th>\n",
              "      <th>PreviousAccounts</th>\n",
              "      <th>ResidenceDuration</th>\n",
              "      <th>Street</th>\n",
              "      <th>LicensePlate</th>\n",
              "      <th>Amount</th>\n",
              "      <th>Married</th>\n",
              "      <th>Duration</th>\n",
              "      <th>City</th>\n",
              "      <th>Purpose</th>\n",
              "      <th>DateOfBirth</th>\n",
              "    </tr>\n",
              "  </thead>\n",
              "  <tbody>\n",
              "    <tr>\n",
              "      <th>3897</th>\n",
              "      <td>236-22-6766</td>\n",
              "      <td>M</td>\n",
              "      <td>0</td>\n",
              "      <td>Jerry</td>\n",
              "      <td>Black</td>\n",
              "      <td>2</td>\n",
              "      <td>0</td>\n",
              "      <td>2</td>\n",
              "      <td>0466 Brown Wall</td>\n",
              "      <td>3-U8282</td>\n",
              "      <td>3329</td>\n",
              "      <td>0</td>\n",
              "      <td>12</td>\n",
              "      <td>New Roberttown</td>\n",
              "      <td>Household</td>\n",
              "      <td>1970-04-22</td>\n",
              "    </tr>\n",
              "    <tr>\n",
              "      <th>5628</th>\n",
              "      <td>766-20-5986</td>\n",
              "      <td>F</td>\n",
              "      <td>0</td>\n",
              "      <td>Julia</td>\n",
              "      <td>Jones</td>\n",
              "      <td>0</td>\n",
              "      <td>2</td>\n",
              "      <td>2</td>\n",
              "      <td>6095 Larson Causeway</td>\n",
              "      <td>LWO 912</td>\n",
              "      <td>2996</td>\n",
              "      <td>0</td>\n",
              "      <td>36</td>\n",
              "      <td>Ericmouth</td>\n",
              "      <td>Household</td>\n",
              "      <td>1964-06-19</td>\n",
              "    </tr>\n",
              "    <tr>\n",
              "      <th>1756</th>\n",
              "      <td>744-25-5747</td>\n",
              "      <td>F</td>\n",
              "      <td>0</td>\n",
              "      <td>Abigail</td>\n",
              "      <td>Estrada</td>\n",
              "      <td>2</td>\n",
              "      <td>0</td>\n",
              "      <td>3</td>\n",
              "      <td>293 Michael Divide</td>\n",
              "      <td>715 OQT</td>\n",
              "      <td>2470</td>\n",
              "      <td>0</td>\n",
              "      <td>24</td>\n",
              "      <td>East Jill</td>\n",
              "      <td>NewCar</td>\n",
              "      <td>1975-02-17</td>\n",
              "    </tr>\n",
              "    <tr>\n",
              "      <th>2346</th>\n",
              "      <td>463-78-3098</td>\n",
              "      <td>F</td>\n",
              "      <td>0</td>\n",
              "      <td>Jessica</td>\n",
              "      <td>Jones</td>\n",
              "      <td>2</td>\n",
              "      <td>1</td>\n",
              "      <td>2</td>\n",
              "      <td>02759 Williams Roads</td>\n",
              "      <td>869 SYK</td>\n",
              "      <td>3745</td>\n",
              "      <td>0</td>\n",
              "      <td>30</td>\n",
              "      <td>Lake Debra</td>\n",
              "      <td>UsedCar</td>\n",
              "      <td>1977-02-16</td>\n",
              "    </tr>\n",
              "    <tr>\n",
              "      <th>2996</th>\n",
              "      <td>414-44-6527</td>\n",
              "      <td>M</td>\n",
              "      <td>0</td>\n",
              "      <td>William</td>\n",
              "      <td>Shaffer</td>\n",
              "      <td>0</td>\n",
              "      <td>1</td>\n",
              "      <td>3</td>\n",
              "      <td>19797 Turner Rue</td>\n",
              "      <td>48-A601</td>\n",
              "      <td>3549</td>\n",
              "      <td>0</td>\n",
              "      <td>36</td>\n",
              "      <td>North Judithbury</td>\n",
              "      <td>Vacation</td>\n",
              "      <td>1976-07-27</td>\n",
              "    </tr>\n",
              "  </tbody>\n",
              "</table>\n",
              "</div>"
            ],
            "text/plain": [
              "           UserID Sex  PreviousDefault  ...              City    Purpose  DateOfBirth\n",
              "3897  236-22-6766   M                0  ...    New Roberttown  Household   1970-04-22\n",
              "5628  766-20-5986   F                0  ...         Ericmouth  Household   1964-06-19\n",
              "1756  744-25-5747   F                0  ...         East Jill     NewCar   1975-02-17\n",
              "2346  463-78-3098   F                0  ...        Lake Debra    UsedCar   1977-02-16\n",
              "2996  414-44-6527   M                0  ...  North Judithbury   Vacation   1976-07-27\n",
              "\n",
              "[5 rows x 16 columns]"
            ]
          },
          "metadata": {},
          "execution_count": 50
        }
      ]
    },
    {
      "cell_type": "code",
      "source": [
        "#To drop columns that won't be meaningful at this time.\n",
        "X_train = X_train.drop(['UserID','FirstName','LastName','Street','LicensePlate'],axis=1)\n",
        "X_test = X_test.drop(['UserID','FirstName','LastName','Street','LicensePlate',],axis=1)"
      ],
      "metadata": {
        "id": "F2DELMaNhh4I"
      },
      "execution_count": null,
      "outputs": []
    },
    {
      "cell_type": "code",
      "source": [
        "X_train.head()"
      ],
      "metadata": {
        "colab": {
          "base_uri": "https://localhost:8080/",
          "height": 206
        },
        "id": "ygHAIL-ohn7K",
        "outputId": "d326d720-a623-445d-db14-1abfededd601"
      },
      "execution_count": null,
      "outputs": [
        {
          "output_type": "execute_result",
          "data": {
            "text/html": [
              "<div>\n",
              "<style scoped>\n",
              "    .dataframe tbody tr th:only-of-type {\n",
              "        vertical-align: middle;\n",
              "    }\n",
              "\n",
              "    .dataframe tbody tr th {\n",
              "        vertical-align: top;\n",
              "    }\n",
              "\n",
              "    .dataframe thead th {\n",
              "        text-align: right;\n",
              "    }\n",
              "</style>\n",
              "<table border=\"1\" class=\"dataframe\">\n",
              "  <thead>\n",
              "    <tr style=\"text-align: right;\">\n",
              "      <th></th>\n",
              "      <th>Sex</th>\n",
              "      <th>PreviousDefault</th>\n",
              "      <th>NumberPets</th>\n",
              "      <th>PreviousAccounts</th>\n",
              "      <th>ResidenceDuration</th>\n",
              "      <th>Amount</th>\n",
              "      <th>Married</th>\n",
              "      <th>Duration</th>\n",
              "      <th>City</th>\n",
              "      <th>Purpose</th>\n",
              "      <th>DateOfBirth</th>\n",
              "    </tr>\n",
              "  </thead>\n",
              "  <tbody>\n",
              "    <tr>\n",
              "      <th>3897</th>\n",
              "      <td>M</td>\n",
              "      <td>0</td>\n",
              "      <td>2</td>\n",
              "      <td>0</td>\n",
              "      <td>2</td>\n",
              "      <td>3329</td>\n",
              "      <td>0</td>\n",
              "      <td>12</td>\n",
              "      <td>New Roberttown</td>\n",
              "      <td>Household</td>\n",
              "      <td>1970-04-22</td>\n",
              "    </tr>\n",
              "    <tr>\n",
              "      <th>5628</th>\n",
              "      <td>F</td>\n",
              "      <td>0</td>\n",
              "      <td>0</td>\n",
              "      <td>2</td>\n",
              "      <td>2</td>\n",
              "      <td>2996</td>\n",
              "      <td>0</td>\n",
              "      <td>36</td>\n",
              "      <td>Ericmouth</td>\n",
              "      <td>Household</td>\n",
              "      <td>1964-06-19</td>\n",
              "    </tr>\n",
              "    <tr>\n",
              "      <th>1756</th>\n",
              "      <td>F</td>\n",
              "      <td>0</td>\n",
              "      <td>2</td>\n",
              "      <td>0</td>\n",
              "      <td>3</td>\n",
              "      <td>2470</td>\n",
              "      <td>0</td>\n",
              "      <td>24</td>\n",
              "      <td>East Jill</td>\n",
              "      <td>NewCar</td>\n",
              "      <td>1975-02-17</td>\n",
              "    </tr>\n",
              "    <tr>\n",
              "      <th>2346</th>\n",
              "      <td>F</td>\n",
              "      <td>0</td>\n",
              "      <td>2</td>\n",
              "      <td>1</td>\n",
              "      <td>2</td>\n",
              "      <td>3745</td>\n",
              "      <td>0</td>\n",
              "      <td>30</td>\n",
              "      <td>Lake Debra</td>\n",
              "      <td>UsedCar</td>\n",
              "      <td>1977-02-16</td>\n",
              "    </tr>\n",
              "    <tr>\n",
              "      <th>2996</th>\n",
              "      <td>M</td>\n",
              "      <td>0</td>\n",
              "      <td>0</td>\n",
              "      <td>1</td>\n",
              "      <td>3</td>\n",
              "      <td>3549</td>\n",
              "      <td>0</td>\n",
              "      <td>36</td>\n",
              "      <td>North Judithbury</td>\n",
              "      <td>Vacation</td>\n",
              "      <td>1976-07-27</td>\n",
              "    </tr>\n",
              "  </tbody>\n",
              "</table>\n",
              "</div>"
            ],
            "text/plain": [
              "     Sex  PreviousDefault  NumberPets  ...              City    Purpose  DateOfBirth\n",
              "3897   M                0           2  ...    New Roberttown  Household   1970-04-22\n",
              "5628   F                0           0  ...         Ericmouth  Household   1964-06-19\n",
              "1756   F                0           2  ...         East Jill     NewCar   1975-02-17\n",
              "2346   F                0           2  ...        Lake Debra    UsedCar   1977-02-16\n",
              "2996   M                0           0  ...  North Judithbury   Vacation   1976-07-27\n",
              "\n",
              "[5 rows x 11 columns]"
            ]
          },
          "metadata": {},
          "execution_count": 52
        }
      ]
    },
    {
      "cell_type": "code",
      "source": [
        "X_train.head()"
      ],
      "metadata": {
        "colab": {
          "base_uri": "https://localhost:8080/",
          "height": 206
        },
        "id": "kJqdHCEchpIv",
        "outputId": "c402a13f-30b7-4119-8a73-c21777218380"
      },
      "execution_count": null,
      "outputs": [
        {
          "output_type": "execute_result",
          "data": {
            "text/html": [
              "<div>\n",
              "<style scoped>\n",
              "    .dataframe tbody tr th:only-of-type {\n",
              "        vertical-align: middle;\n",
              "    }\n",
              "\n",
              "    .dataframe tbody tr th {\n",
              "        vertical-align: top;\n",
              "    }\n",
              "\n",
              "    .dataframe thead th {\n",
              "        text-align: right;\n",
              "    }\n",
              "</style>\n",
              "<table border=\"1\" class=\"dataframe\">\n",
              "  <thead>\n",
              "    <tr style=\"text-align: right;\">\n",
              "      <th></th>\n",
              "      <th>Sex</th>\n",
              "      <th>PreviousDefault</th>\n",
              "      <th>NumberPets</th>\n",
              "      <th>PreviousAccounts</th>\n",
              "      <th>ResidenceDuration</th>\n",
              "      <th>Amount</th>\n",
              "      <th>Married</th>\n",
              "      <th>Duration</th>\n",
              "      <th>City</th>\n",
              "      <th>Purpose</th>\n",
              "      <th>DateOfBirth</th>\n",
              "    </tr>\n",
              "  </thead>\n",
              "  <tbody>\n",
              "    <tr>\n",
              "      <th>3897</th>\n",
              "      <td>M</td>\n",
              "      <td>0</td>\n",
              "      <td>2</td>\n",
              "      <td>0</td>\n",
              "      <td>2</td>\n",
              "      <td>3329</td>\n",
              "      <td>0</td>\n",
              "      <td>12</td>\n",
              "      <td>New Roberttown</td>\n",
              "      <td>Household</td>\n",
              "      <td>1970-04-22</td>\n",
              "    </tr>\n",
              "    <tr>\n",
              "      <th>5628</th>\n",
              "      <td>F</td>\n",
              "      <td>0</td>\n",
              "      <td>0</td>\n",
              "      <td>2</td>\n",
              "      <td>2</td>\n",
              "      <td>2996</td>\n",
              "      <td>0</td>\n",
              "      <td>36</td>\n",
              "      <td>Ericmouth</td>\n",
              "      <td>Household</td>\n",
              "      <td>1964-06-19</td>\n",
              "    </tr>\n",
              "    <tr>\n",
              "      <th>1756</th>\n",
              "      <td>F</td>\n",
              "      <td>0</td>\n",
              "      <td>2</td>\n",
              "      <td>0</td>\n",
              "      <td>3</td>\n",
              "      <td>2470</td>\n",
              "      <td>0</td>\n",
              "      <td>24</td>\n",
              "      <td>East Jill</td>\n",
              "      <td>NewCar</td>\n",
              "      <td>1975-02-17</td>\n",
              "    </tr>\n",
              "    <tr>\n",
              "      <th>2346</th>\n",
              "      <td>F</td>\n",
              "      <td>0</td>\n",
              "      <td>2</td>\n",
              "      <td>1</td>\n",
              "      <td>2</td>\n",
              "      <td>3745</td>\n",
              "      <td>0</td>\n",
              "      <td>30</td>\n",
              "      <td>Lake Debra</td>\n",
              "      <td>UsedCar</td>\n",
              "      <td>1977-02-16</td>\n",
              "    </tr>\n",
              "    <tr>\n",
              "      <th>2996</th>\n",
              "      <td>M</td>\n",
              "      <td>0</td>\n",
              "      <td>0</td>\n",
              "      <td>1</td>\n",
              "      <td>3</td>\n",
              "      <td>3549</td>\n",
              "      <td>0</td>\n",
              "      <td>36</td>\n",
              "      <td>North Judithbury</td>\n",
              "      <td>Vacation</td>\n",
              "      <td>1976-07-27</td>\n",
              "    </tr>\n",
              "  </tbody>\n",
              "</table>\n",
              "</div>"
            ],
            "text/plain": [
              "     Sex  PreviousDefault  NumberPets  ...              City    Purpose  DateOfBirth\n",
              "3897   M                0           2  ...    New Roberttown  Household   1970-04-22\n",
              "5628   F                0           0  ...         Ericmouth  Household   1964-06-19\n",
              "1756   F                0           2  ...         East Jill     NewCar   1975-02-17\n",
              "2346   F                0           2  ...        Lake Debra    UsedCar   1977-02-16\n",
              "2996   M                0           0  ...  North Judithbury   Vacation   1976-07-27\n",
              "\n",
              "[5 rows x 11 columns]"
            ]
          },
          "metadata": {},
          "execution_count": 53
        }
      ]
    },
    {
      "cell_type": "code",
      "source": [
        "from sklearn import preprocessing\n",
        "X_train = X_train.copy()\n",
        "lbl = preprocessing.LabelEncoder()\n",
        "X_train['Sex'] = lbl.fit_transform(X_train['Sex'].astype(str))\n",
        "X_train['NumberPets'] = lbl.fit_transform(X_train['NumberPets'].astype(str))\n",
        "X_train['PreviousAccounts'] = lbl.fit_transform(X_train['PreviousAccounts'].astype(str))\n",
        "X_train['ResidenceDuration'] = lbl.fit_transform(X_train['ResidenceDuration'].astype(str))\n",
        "X_train['City'] = lbl.fit_transform(X_train['City'].astype(str))\n",
        "X_train['Purpose'] = lbl.fit_transform(X_train['Purpose'].astype(str))\n",
        "X_train['DateOfBirth'] = lbl.fit_transform(X_train['DateOfBirth'].astype(str))"
      ],
      "metadata": {
        "id": "qPeeTyojhsON"
      },
      "execution_count": null,
      "outputs": []
    },
    {
      "cell_type": "code",
      "source": [
        "from sklearn import preprocessing\n",
        "X_test = X_test.copy()\n",
        "lbl = preprocessing.LabelEncoder()\n",
        "X_test['Sex'] = lbl.fit_transform(X_test['Sex'].astype(str))\n",
        "X_test['NumberPets'] = lbl.fit_transform(X_test['NumberPets'].astype(str))\n",
        "X_test['PreviousAccounts'] = lbl.fit_transform(X_test['PreviousAccounts'].astype(str))\n",
        "X_test['ResidenceDuration'] = lbl.fit_transform(X_test['ResidenceDuration'].astype(str))\n",
        "X_test['City'] = lbl.fit_transform(X_test['City'].astype(str))\n",
        "X_test['Purpose'] = lbl.fit_transform(X_test['Purpose'].astype(str))\n",
        "X_test['DateOfBirth'] = lbl.fit_transform(X_test['DateOfBirth'].astype(str))"
      ],
      "metadata": {
        "id": "Hex5EHbshtk2"
      },
      "execution_count": null,
      "outputs": []
    },
    {
      "cell_type": "code",
      "source": [
        "X_train.head()"
      ],
      "metadata": {
        "colab": {
          "base_uri": "https://localhost:8080/",
          "height": 206
        },
        "id": "oFTcN09phvIO",
        "outputId": "ec6791de-8e83-45cb-99ec-daa2977f073c"
      },
      "execution_count": null,
      "outputs": [
        {
          "output_type": "execute_result",
          "data": {
            "text/html": [
              "<div>\n",
              "<style scoped>\n",
              "    .dataframe tbody tr th:only-of-type {\n",
              "        vertical-align: middle;\n",
              "    }\n",
              "\n",
              "    .dataframe tbody tr th {\n",
              "        vertical-align: top;\n",
              "    }\n",
              "\n",
              "    .dataframe thead th {\n",
              "        text-align: right;\n",
              "    }\n",
              "</style>\n",
              "<table border=\"1\" class=\"dataframe\">\n",
              "  <thead>\n",
              "    <tr style=\"text-align: right;\">\n",
              "      <th></th>\n",
              "      <th>Sex</th>\n",
              "      <th>PreviousDefault</th>\n",
              "      <th>NumberPets</th>\n",
              "      <th>PreviousAccounts</th>\n",
              "      <th>ResidenceDuration</th>\n",
              "      <th>Amount</th>\n",
              "      <th>Married</th>\n",
              "      <th>Duration</th>\n",
              "      <th>City</th>\n",
              "      <th>Purpose</th>\n",
              "      <th>DateOfBirth</th>\n",
              "    </tr>\n",
              "  </thead>\n",
              "  <tbody>\n",
              "    <tr>\n",
              "      <th>3897</th>\n",
              "      <td>1</td>\n",
              "      <td>0</td>\n",
              "      <td>2</td>\n",
              "      <td>0</td>\n",
              "      <td>2</td>\n",
              "      <td>3329</td>\n",
              "      <td>0</td>\n",
              "      <td>12</td>\n",
              "      <td>12</td>\n",
              "      <td>2</td>\n",
              "      <td>1071</td>\n",
              "    </tr>\n",
              "    <tr>\n",
              "      <th>5628</th>\n",
              "      <td>0</td>\n",
              "      <td>0</td>\n",
              "      <td>0</td>\n",
              "      <td>2</td>\n",
              "      <td>2</td>\n",
              "      <td>2996</td>\n",
              "      <td>0</td>\n",
              "      <td>36</td>\n",
              "      <td>3</td>\n",
              "      <td>2</td>\n",
              "      <td>213</td>\n",
              "    </tr>\n",
              "    <tr>\n",
              "      <th>1756</th>\n",
              "      <td>0</td>\n",
              "      <td>0</td>\n",
              "      <td>2</td>\n",
              "      <td>0</td>\n",
              "      <td>3</td>\n",
              "      <td>2470</td>\n",
              "      <td>0</td>\n",
              "      <td>24</td>\n",
              "      <td>2</td>\n",
              "      <td>3</td>\n",
              "      <td>2110</td>\n",
              "    </tr>\n",
              "    <tr>\n",
              "      <th>2346</th>\n",
              "      <td>0</td>\n",
              "      <td>0</td>\n",
              "      <td>2</td>\n",
              "      <td>1</td>\n",
              "      <td>2</td>\n",
              "      <td>3745</td>\n",
              "      <td>0</td>\n",
              "      <td>30</td>\n",
              "      <td>7</td>\n",
              "      <td>6</td>\n",
              "      <td>2501</td>\n",
              "    </tr>\n",
              "    <tr>\n",
              "      <th>2996</th>\n",
              "      <td>1</td>\n",
              "      <td>0</td>\n",
              "      <td>0</td>\n",
              "      <td>1</td>\n",
              "      <td>3</td>\n",
              "      <td>3549</td>\n",
              "      <td>0</td>\n",
              "      <td>36</td>\n",
              "      <td>13</td>\n",
              "      <td>7</td>\n",
              "      <td>2401</td>\n",
              "    </tr>\n",
              "  </tbody>\n",
              "</table>\n",
              "</div>"
            ],
            "text/plain": [
              "      Sex  PreviousDefault  NumberPets  ...  City  Purpose  DateOfBirth\n",
              "3897    1                0           2  ...    12        2         1071\n",
              "5628    0                0           0  ...     3        2          213\n",
              "1756    0                0           2  ...     2        3         2110\n",
              "2346    0                0           2  ...     7        6         2501\n",
              "2996    1                0           0  ...    13        7         2401\n",
              "\n",
              "[5 rows x 11 columns]"
            ]
          },
          "metadata": {},
          "execution_count": 56
        }
      ]
    },
    {
      "cell_type": "code",
      "source": [
        "X_test.head()"
      ],
      "metadata": {
        "colab": {
          "base_uri": "https://localhost:8080/",
          "height": 206
        },
        "id": "zystD8Ddhwdb",
        "outputId": "29ff79a6-f2b9-40e4-d41f-d052aedaad02"
      },
      "execution_count": null,
      "outputs": [
        {
          "output_type": "execute_result",
          "data": {
            "text/html": [
              "<div>\n",
              "<style scoped>\n",
              "    .dataframe tbody tr th:only-of-type {\n",
              "        vertical-align: middle;\n",
              "    }\n",
              "\n",
              "    .dataframe tbody tr th {\n",
              "        vertical-align: top;\n",
              "    }\n",
              "\n",
              "    .dataframe thead th {\n",
              "        text-align: right;\n",
              "    }\n",
              "</style>\n",
              "<table border=\"1\" class=\"dataframe\">\n",
              "  <thead>\n",
              "    <tr style=\"text-align: right;\">\n",
              "      <th></th>\n",
              "      <th>Sex</th>\n",
              "      <th>PreviousDefault</th>\n",
              "      <th>NumberPets</th>\n",
              "      <th>PreviousAccounts</th>\n",
              "      <th>ResidenceDuration</th>\n",
              "      <th>Amount</th>\n",
              "      <th>Married</th>\n",
              "      <th>Duration</th>\n",
              "      <th>City</th>\n",
              "      <th>Purpose</th>\n",
              "      <th>DateOfBirth</th>\n",
              "    </tr>\n",
              "  </thead>\n",
              "  <tbody>\n",
              "    <tr>\n",
              "      <th>1782</th>\n",
              "      <td>0</td>\n",
              "      <td>0</td>\n",
              "      <td>1</td>\n",
              "      <td>1</td>\n",
              "      <td>3</td>\n",
              "      <td>3773</td>\n",
              "      <td>0</td>\n",
              "      <td>36</td>\n",
              "      <td>13</td>\n",
              "      <td>3</td>\n",
              "      <td>375</td>\n",
              "    </tr>\n",
              "    <tr>\n",
              "      <th>3917</th>\n",
              "      <td>0</td>\n",
              "      <td>0</td>\n",
              "      <td>0</td>\n",
              "      <td>0</td>\n",
              "      <td>3</td>\n",
              "      <td>3412</td>\n",
              "      <td>0</td>\n",
              "      <td>24</td>\n",
              "      <td>8</td>\n",
              "      <td>6</td>\n",
              "      <td>53</td>\n",
              "    </tr>\n",
              "    <tr>\n",
              "      <th>221</th>\n",
              "      <td>0</td>\n",
              "      <td>0</td>\n",
              "      <td>2</td>\n",
              "      <td>2</td>\n",
              "      <td>0</td>\n",
              "      <td>4146</td>\n",
              "      <td>0</td>\n",
              "      <td>24</td>\n",
              "      <td>19</td>\n",
              "      <td>3</td>\n",
              "      <td>386</td>\n",
              "    </tr>\n",
              "    <tr>\n",
              "      <th>2135</th>\n",
              "      <td>1</td>\n",
              "      <td>0</td>\n",
              "      <td>2</td>\n",
              "      <td>1</td>\n",
              "      <td>1</td>\n",
              "      <td>3608</td>\n",
              "      <td>1</td>\n",
              "      <td>30</td>\n",
              "      <td>1</td>\n",
              "      <td>6</td>\n",
              "      <td>48</td>\n",
              "    </tr>\n",
              "    <tr>\n",
              "      <th>5224</th>\n",
              "      <td>0</td>\n",
              "      <td>0</td>\n",
              "      <td>2</td>\n",
              "      <td>1</td>\n",
              "      <td>1</td>\n",
              "      <td>2947</td>\n",
              "      <td>1</td>\n",
              "      <td>24</td>\n",
              "      <td>13</td>\n",
              "      <td>3</td>\n",
              "      <td>869</td>\n",
              "    </tr>\n",
              "  </tbody>\n",
              "</table>\n",
              "</div>"
            ],
            "text/plain": [
              "      Sex  PreviousDefault  NumberPets  ...  City  Purpose  DateOfBirth\n",
              "1782    0                0           1  ...    13        3          375\n",
              "3917    0                0           0  ...     8        6           53\n",
              "221     0                0           2  ...    19        3          386\n",
              "2135    1                0           2  ...     1        6           48\n",
              "5224    0                0           2  ...    13        3          869\n",
              "\n",
              "[5 rows x 11 columns]"
            ]
          },
          "metadata": {},
          "execution_count": 57
        }
      ]
    },
    {
      "cell_type": "markdown",
      "metadata": {
        "id": "sdiKKblCo53S"
      },
      "source": [
        "## 3.1: Baseline model"
      ]
    },
    {
      "cell_type": "code",
      "metadata": {
        "id": "mSumAZUAo9O6",
        "colab": {
          "base_uri": "https://localhost:8080/"
        },
        "outputId": "8b8910a9-850b-475b-ff19-db50a5b42011"
      },
      "source": [
        "dt = DecisionTreeClassifier()\n",
        "dt.fit(X_train, y_train)"
      ],
      "execution_count": null,
      "outputs": [
        {
          "output_type": "execute_result",
          "data": {
            "text/plain": [
              "DecisionTreeClassifier()"
            ]
          },
          "metadata": {},
          "execution_count": 58
        }
      ]
    },
    {
      "cell_type": "code",
      "source": [
        "dt.score(X_train,y_train)"
      ],
      "metadata": {
        "colab": {
          "base_uri": "https://localhost:8080/"
        },
        "id": "JGBdoKgqhzk6",
        "outputId": "5db19d6e-efd4-4b64-db62-0d76684a6e12"
      },
      "execution_count": null,
      "outputs": [
        {
          "output_type": "execute_result",
          "data": {
            "text/plain": [
              "1.0"
            ]
          },
          "metadata": {},
          "execution_count": 59
        }
      ]
    },
    {
      "cell_type": "code",
      "source": [
        "#check the model score\n",
        "from sklearn.model_selection import cross_val_score\n",
        "scores = cross_val_score(dt, X_train, y_train, cv=5)\n",
        "print(\"Mean cross-validation score: %.4f\" % scores.mean())"
      ],
      "metadata": {
        "colab": {
          "base_uri": "https://localhost:8080/"
        },
        "id": "KQM0bTH6h1CN",
        "outputId": "c8a5aa5e-76c8-4bd8-edeb-8b1f35716476"
      },
      "execution_count": null,
      "outputs": [
        {
          "output_type": "stream",
          "name": "stdout",
          "text": [
            "Mean cross-validation score: 0.8333\n"
          ]
        }
      ]
    },
    {
      "cell_type": "markdown",
      "metadata": {
        "id": "ugyTS51Ko5vz"
      },
      "source": [
        "## 3.2: Feature engineering"
      ]
    },
    {
      "cell_type": "code",
      "metadata": {
        "id": "742aYkYbprVD"
      },
      "source": [
        "#To convert Date of Birth to Age\n",
        "X_train['Age'] = datetime.date.today().year -  pd.to_datetime(X_train['DateOfBirth']).dt.year\n",
        "X_test['Age'] = datetime.date.today().year -  pd.to_datetime(X_test['DateOfBirth']).dt.year"
      ],
      "execution_count": null,
      "outputs": []
    },
    {
      "cell_type": "code",
      "source": [
        "#To make sure there are no missing values\n",
        "X_train.isnull().values.any()"
      ],
      "metadata": {
        "colab": {
          "base_uri": "https://localhost:8080/"
        },
        "id": "9txuszaIh-CY",
        "outputId": "30b9fb8e-33b0-4ee9-811d-3f04e1a43385"
      },
      "execution_count": null,
      "outputs": [
        {
          "output_type": "execute_result",
          "data": {
            "text/plain": [
              "False"
            ]
          },
          "metadata": {},
          "execution_count": 61
        }
      ]
    },
    {
      "cell_type": "code",
      "source": [
        "#To create a new column that determines how much their principle payments are.\n",
        "X_train['Prcple Pymnt'] = X_train['Amount']/X_train['Duration']\n",
        "X_test['Prcple Pymnt'] = X_test['Amount']/X_test['Duration']"
      ],
      "metadata": {
        "id": "yCb63IeVh_VQ"
      },
      "execution_count": null,
      "outputs": []
    },
    {
      "cell_type": "code",
      "source": [
        "#To make sure there are no missing values\n",
        "X_train.isnull().values.any()"
      ],
      "metadata": {
        "colab": {
          "base_uri": "https://localhost:8080/"
        },
        "id": "R3U936wNiL1I",
        "outputId": "04af9c34-9747-4f18-aee7-61249a30327d"
      },
      "execution_count": null,
      "outputs": [
        {
          "output_type": "execute_result",
          "data": {
            "text/plain": [
              "False"
            ]
          },
          "metadata": {},
          "execution_count": 63
        }
      ]
    },
    {
      "cell_type": "code",
      "source": [
        "#To create a new column that determines how many of their accounts have defaulted\n",
        "X_train['Acct Dflt'] = X_train['PreviousDefault']/X_train['PreviousAccounts']\n",
        "X_test['Acct Dflt'] = X_test['PreviousDefault']/X_test['PreviousAccounts']"
      ],
      "metadata": {
        "id": "5CTE-9egiNHG"
      },
      "execution_count": null,
      "outputs": []
    },
    {
      "cell_type": "code",
      "source": [
        "#To make sure there are no missing values\n",
        "X_train.isnull().values.any()"
      ],
      "metadata": {
        "colab": {
          "base_uri": "https://localhost:8080/"
        },
        "id": "7F9_DzxoiSoZ",
        "outputId": "0e0b1dbd-2a6e-4492-c7fd-50803b4b085a"
      },
      "execution_count": null,
      "outputs": [
        {
          "output_type": "execute_result",
          "data": {
            "text/plain": [
              "True"
            ]
          },
          "metadata": {},
          "execution_count": 65
        }
      ]
    },
    {
      "cell_type": "code",
      "source": [
        "X_train['Acct Dflt'] = X_train['Acct Dflt'].replace(np.nan, 0)\n",
        "X_test['Acct Dflt'] = X_test['Acct Dflt'].replace(np.nan, 0)"
      ],
      "metadata": {
        "id": "67qD937uiUGM"
      },
      "execution_count": null,
      "outputs": []
    },
    {
      "cell_type": "code",
      "source": [
        "#To get rid of any errors we have\n",
        "from numpy import inf\n",
        "X_train[X_train == -inf] = 0\n",
        "X_test[X_test == -inf] = 0\n",
        "X_train[X_train == inf] = 0\n",
        "X_test[X_test == inf] = 0"
      ],
      "metadata": {
        "id": "7-68YqM5iVQ8"
      },
      "execution_count": null,
      "outputs": []
    },
    {
      "cell_type": "code",
      "source": [
        "X_train.describe()"
      ],
      "metadata": {
        "colab": {
          "base_uri": "https://localhost:8080/",
          "height": 300
        },
        "id": "MJcXwuTOiY8a",
        "outputId": "bd1d9adc-214d-4481-838b-88a273da380a"
      },
      "execution_count": null,
      "outputs": [
        {
          "output_type": "execute_result",
          "data": {
            "text/html": [
              "<div>\n",
              "<style scoped>\n",
              "    .dataframe tbody tr th:only-of-type {\n",
              "        vertical-align: middle;\n",
              "    }\n",
              "\n",
              "    .dataframe tbody tr th {\n",
              "        vertical-align: top;\n",
              "    }\n",
              "\n",
              "    .dataframe thead th {\n",
              "        text-align: right;\n",
              "    }\n",
              "</style>\n",
              "<table border=\"1\" class=\"dataframe\">\n",
              "  <thead>\n",
              "    <tr style=\"text-align: right;\">\n",
              "      <th></th>\n",
              "      <th>Sex</th>\n",
              "      <th>PreviousDefault</th>\n",
              "      <th>NumberPets</th>\n",
              "      <th>PreviousAccounts</th>\n",
              "      <th>ResidenceDuration</th>\n",
              "      <th>Amount</th>\n",
              "      <th>Married</th>\n",
              "      <th>Duration</th>\n",
              "      <th>City</th>\n",
              "      <th>Purpose</th>\n",
              "      <th>DateOfBirth</th>\n",
              "      <th>Prcple Pymnt</th>\n",
              "      <th>Acct Dflt</th>\n",
              "    </tr>\n",
              "  </thead>\n",
              "  <tbody>\n",
              "    <tr>\n",
              "      <th>count</th>\n",
              "      <td>4800.000000</td>\n",
              "      <td>4800.000000</td>\n",
              "      <td>4800.000000</td>\n",
              "      <td>4800.000000</td>\n",
              "      <td>4800.000000</td>\n",
              "      <td>4800.000000</td>\n",
              "      <td>4800.000000</td>\n",
              "      <td>4800.000000</td>\n",
              "      <td>4800.000000</td>\n",
              "      <td>4800.000000</td>\n",
              "      <td>4800.000000</td>\n",
              "      <td>4800.000000</td>\n",
              "      <td>4800.00000</td>\n",
              "    </tr>\n",
              "    <tr>\n",
              "      <th>mean</th>\n",
              "      <td>0.304583</td>\n",
              "      <td>0.020208</td>\n",
              "      <td>1.020833</td>\n",
              "      <td>1.005208</td>\n",
              "      <td>1.990833</td>\n",
              "      <td>3595.628958</td>\n",
              "      <td>0.505417</td>\n",
              "      <td>24.278750</td>\n",
              "      <td>9.259792</td>\n",
              "      <td>4.029375</td>\n",
              "      <td>1777.444792</td>\n",
              "      <td>194.169281</td>\n",
              "      <td>0.01125</td>\n",
              "    </tr>\n",
              "    <tr>\n",
              "      <th>std</th>\n",
              "      <td>0.460279</td>\n",
              "      <td>0.140727</td>\n",
              "      <td>0.816826</td>\n",
              "      <td>1.010145</td>\n",
              "      <td>1.397882</td>\n",
              "      <td>425.243527</td>\n",
              "      <td>0.500023</td>\n",
              "      <td>9.391122</td>\n",
              "      <td>5.478843</td>\n",
              "      <td>1.749876</td>\n",
              "      <td>975.769253</td>\n",
              "      <td>139.939571</td>\n",
              "      <td>0.09955</td>\n",
              "    </tr>\n",
              "    <tr>\n",
              "      <th>min</th>\n",
              "      <td>0.000000</td>\n",
              "      <td>0.000000</td>\n",
              "      <td>0.000000</td>\n",
              "      <td>0.000000</td>\n",
              "      <td>0.000000</td>\n",
              "      <td>2158.000000</td>\n",
              "      <td>0.000000</td>\n",
              "      <td>6.000000</td>\n",
              "      <td>0.000000</td>\n",
              "      <td>0.000000</td>\n",
              "      <td>0.000000</td>\n",
              "      <td>64.416667</td>\n",
              "      <td>0.00000</td>\n",
              "    </tr>\n",
              "    <tr>\n",
              "      <th>25%</th>\n",
              "      <td>0.000000</td>\n",
              "      <td>0.000000</td>\n",
              "      <td>0.000000</td>\n",
              "      <td>0.000000</td>\n",
              "      <td>1.000000</td>\n",
              "      <td>3291.750000</td>\n",
              "      <td>0.000000</td>\n",
              "      <td>18.000000</td>\n",
              "      <td>3.000000</td>\n",
              "      <td>3.000000</td>\n",
              "      <td>966.750000</td>\n",
              "      <td>111.691667</td>\n",
              "      <td>0.00000</td>\n",
              "    </tr>\n",
              "    <tr>\n",
              "      <th>50%</th>\n",
              "      <td>0.000000</td>\n",
              "      <td>0.000000</td>\n",
              "      <td>1.000000</td>\n",
              "      <td>1.000000</td>\n",
              "      <td>2.000000</td>\n",
              "      <td>3602.000000</td>\n",
              "      <td>1.000000</td>\n",
              "      <td>24.000000</td>\n",
              "      <td>12.000000</td>\n",
              "      <td>4.000000</td>\n",
              "      <td>1781.500000</td>\n",
              "      <td>140.408333</td>\n",
              "      <td>0.00000</td>\n",
              "    </tr>\n",
              "    <tr>\n",
              "      <th>75%</th>\n",
              "      <td>1.000000</td>\n",
              "      <td>0.000000</td>\n",
              "      <td>2.000000</td>\n",
              "      <td>2.000000</td>\n",
              "      <td>3.000000</td>\n",
              "      <td>3904.000000</td>\n",
              "      <td>1.000000</td>\n",
              "      <td>30.000000</td>\n",
              "      <td>13.000000</td>\n",
              "      <td>6.000000</td>\n",
              "      <td>2573.250000</td>\n",
              "      <td>206.930556</td>\n",
              "      <td>0.00000</td>\n",
              "    </tr>\n",
              "    <tr>\n",
              "      <th>max</th>\n",
              "      <td>1.000000</td>\n",
              "      <td>1.000000</td>\n",
              "      <td>2.000000</td>\n",
              "      <td>6.000000</td>\n",
              "      <td>9.000000</td>\n",
              "      <td>4982.000000</td>\n",
              "      <td>1.000000</td>\n",
              "      <td>36.000000</td>\n",
              "      <td>19.000000</td>\n",
              "      <td>7.000000</td>\n",
              "      <td>3569.000000</td>\n",
              "      <td>781.333333</td>\n",
              "      <td>1.00000</td>\n",
              "    </tr>\n",
              "  </tbody>\n",
              "</table>\n",
              "</div>"
            ],
            "text/plain": [
              "               Sex  PreviousDefault  ...  Prcple Pymnt   Acct Dflt\n",
              "count  4800.000000      4800.000000  ...   4800.000000  4800.00000\n",
              "mean      0.304583         0.020208  ...    194.169281     0.01125\n",
              "std       0.460279         0.140727  ...    139.939571     0.09955\n",
              "min       0.000000         0.000000  ...     64.416667     0.00000\n",
              "25%       0.000000         0.000000  ...    111.691667     0.00000\n",
              "50%       0.000000         0.000000  ...    140.408333     0.00000\n",
              "75%       1.000000         0.000000  ...    206.930556     0.00000\n",
              "max       1.000000         1.000000  ...    781.333333     1.00000\n",
              "\n",
              "[8 rows x 13 columns]"
            ]
          },
          "metadata": {},
          "execution_count": 68
        }
      ]
    },
    {
      "cell_type": "code",
      "source": [
        "dt = DecisionTreeClassifier()\n",
        "dt.fit(X_train, y_train)"
      ],
      "metadata": {
        "colab": {
          "base_uri": "https://localhost:8080/"
        },
        "id": "LLHsy5l5ibo7",
        "outputId": "57491c2f-f20c-4a6b-fde3-75e68c9b9921"
      },
      "execution_count": null,
      "outputs": [
        {
          "output_type": "execute_result",
          "data": {
            "text/plain": [
              "DecisionTreeClassifier()"
            ]
          },
          "metadata": {},
          "execution_count": 69
        }
      ]
    },
    {
      "cell_type": "code",
      "source": [
        "dt.score(X_train,y_train)"
      ],
      "metadata": {
        "colab": {
          "base_uri": "https://localhost:8080/"
        },
        "id": "KKSZaqaEic18",
        "outputId": "50f3d5db-7899-4e47-af1a-3f28aa859b88"
      },
      "execution_count": null,
      "outputs": [
        {
          "output_type": "execute_result",
          "data": {
            "text/plain": [
              "1.0"
            ]
          },
          "metadata": {},
          "execution_count": 70
        }
      ]
    },
    {
      "cell_type": "code",
      "source": [
        "#check the model score\n",
        "from sklearn.model_selection import cross_val_score\n",
        "scores = cross_val_score(dt, X_train, y_train, cv=5)\n",
        "print(\"Mean cross-validation score: %.4f\" % scores.mean())"
      ],
      "metadata": {
        "colab": {
          "base_uri": "https://localhost:8080/"
        },
        "id": "N1um3zGKidip",
        "outputId": "f3245000-8819-4ba5-c51f-c025ed1c3a39"
      },
      "execution_count": null,
      "outputs": [
        {
          "output_type": "stream",
          "name": "stdout",
          "text": [
            "Mean cross-validation score: 0.8365\n"
          ]
        }
      ]
    },
    {
      "cell_type": "markdown",
      "metadata": {
        "id": "PsdD0clko5pz"
      },
      "source": [
        "## 3.3: Feature selection"
      ]
    },
    {
      "cell_type": "code",
      "metadata": {
        "id": "rxX2ERqzpqxi"
      },
      "source": [
        "from sklearn.feature_selection import RFECV, RFE\n",
        "\n",
        "clf = DecisionTreeClassifier(random_state=0)\n",
        "sel = RFE(estimator=clf, n_features_to_select=6)\n",
        "sel = sel.fit(X_train, y_train)\n",
        "\n",
        "X_train_new = sel.transform(X_train)\n",
        "X_test_new = sel.transform(X_test)"
      ],
      "execution_count": null,
      "outputs": []
    },
    {
      "cell_type": "code",
      "source": [
        "#check the model score\n",
        "from sklearn.model_selection import cross_val_score\n",
        "scores = cross_val_score(dt, X_train_new, y_train, cv=5)\n",
        "print(\"Mean cross-validation score: %.4f\" % scores.mean())"
      ],
      "metadata": {
        "colab": {
          "base_uri": "https://localhost:8080/"
        },
        "id": "LzzVG5Mfihx3",
        "outputId": "1403441c-05cb-41e1-ce96-12f676f16dc0"
      },
      "execution_count": null,
      "outputs": [
        {
          "output_type": "stream",
          "name": "stdout",
          "text": [
            "Mean cross-validation score: 0.8408\n"
          ]
        }
      ]
    },
    {
      "cell_type": "markdown",
      "metadata": {
        "id": "Ff4l2aNKo5fr"
      },
      "source": [
        "## 3.4: Hyperparameter tuning"
      ]
    },
    {
      "cell_type": "code",
      "metadata": {
        "id": "7XaxtTWMpIpP",
        "colab": {
          "base_uri": "https://localhost:8080/"
        },
        "outputId": "7a537914-7900-4778-bfe6-b6efbe635e6e"
      },
      "source": [
        "from sklearn.model_selection import GridSearchCV\n",
        "\n",
        "clf = DecisionTreeClassifier(random_state=42)\n",
        "\n",
        "params = {'criterion': ('gini', 'entropy'), \n",
        "          'splitter': ('best', 'random'), \n",
        "          'class_weight': ('balanced', None), \n",
        "          'max_depth': [2, 5, 10, 20], \n",
        "          'min_samples_leaf': [1, 5, 10],\n",
        "          'max_features':[0.25, 0.5, 0.75, 1.0]}\n",
        "\n",
        "search = GridSearchCV(clf, params, scoring='f1_macro', cv=10, verbose=1)\n",
        "search = search.fit(X_train_new, y_train)"
      ],
      "execution_count": null,
      "outputs": [
        {
          "output_type": "stream",
          "name": "stdout",
          "text": [
            "Fitting 10 folds for each of 384 candidates, totalling 3840 fits\n"
          ]
        }
      ]
    },
    {
      "cell_type": "code",
      "source": [
        "import pandas as pd\n",
        "from sklearn.metrics import classification_report\n",
        "y_pred = search.predict(X_test_new)\n",
        "print(classification_report(y_test, y_pred))"
      ],
      "metadata": {
        "colab": {
          "base_uri": "https://localhost:8080/"
        },
        "id": "BjWYT3P7is_r",
        "outputId": "8f61fb01-5e21-4301-f1d7-59a7e441c893"
      },
      "execution_count": null,
      "outputs": [
        {
          "output_type": "stream",
          "name": "stdout",
          "text": [
            "              precision    recall  f1-score   support\n",
            "\n",
            "           0       0.83      1.00      0.90       991\n",
            "           1       0.00      0.00      0.00       209\n",
            "\n",
            "    accuracy                           0.83      1200\n",
            "   macro avg       0.41      0.50      0.45      1200\n",
            "weighted avg       0.68      0.83      0.75      1200\n",
            "\n"
          ]
        },
        {
          "output_type": "stream",
          "name": "stderr",
          "text": [
            "/usr/local/lib/python3.7/dist-packages/sklearn/metrics/_classification.py:1308: UndefinedMetricWarning: Precision and F-score are ill-defined and being set to 0.0 in labels with no predicted samples. Use `zero_division` parameter to control this behavior.\n",
            "  _warn_prf(average, modifier, msg_start, len(result))\n",
            "/usr/local/lib/python3.7/dist-packages/sklearn/metrics/_classification.py:1308: UndefinedMetricWarning: Precision and F-score are ill-defined and being set to 0.0 in labels with no predicted samples. Use `zero_division` parameter to control this behavior.\n",
            "  _warn_prf(average, modifier, msg_start, len(result))\n",
            "/usr/local/lib/python3.7/dist-packages/sklearn/metrics/_classification.py:1308: UndefinedMetricWarning: Precision and F-score are ill-defined and being set to 0.0 in labels with no predicted samples. Use `zero_division` parameter to control this behavior.\n",
            "  _warn_prf(average, modifier, msg_start, len(result))\n"
          ]
        }
      ]
    },
    {
      "cell_type": "code",
      "source": [
        "search.best_params_"
      ],
      "metadata": {
        "colab": {
          "base_uri": "https://localhost:8080/"
        },
        "id": "cOLkfdTqi83a",
        "outputId": "cc4c8f3a-797d-4d25-852a-c184b1d07abe"
      },
      "execution_count": null,
      "outputs": [
        {
          "output_type": "execute_result",
          "data": {
            "text/plain": [
              "{'class_weight': None,\n",
              " 'criterion': 'entropy',\n",
              " 'max_depth': 2,\n",
              " 'max_features': 0.75,\n",
              " 'min_samples_leaf': 1,\n",
              " 'splitter': 'best'}"
            ]
          },
          "metadata": {},
          "execution_count": 78
        }
      ]
    },
    {
      "cell_type": "code",
      "source": [
        "search.best_score_"
      ],
      "metadata": {
        "colab": {
          "base_uri": "https://localhost:8080/"
        },
        "id": "ts32thmYi-SX",
        "outputId": "62cedb9b-60d7-4d0e-a9a4-6f8d799d1fdd"
      },
      "execution_count": null,
      "outputs": [
        {
          "output_type": "execute_result",
          "data": {
            "text/plain": [
              "0.7848635531983021"
            ]
          },
          "metadata": {},
          "execution_count": 79
        }
      ]
    },
    {
      "cell_type": "code",
      "source": [
        "# Helper function to print out the results of hyperparmater tuning in a nice table.\n",
        "\n",
        "def cv_results_to_df(cv_results):\n",
        "    results = pd.DataFrame(list(cv_results['params']))\n",
        "    #results['mean_fit_time'] = cv_results['mean_fit_time']\n",
        "    #results['mean_score_time'] = cv_results['mean_score_time']\n",
        "    #results['mean_train_score'] = cv_results['mean_train_score']\n",
        "    #results['std_train_score'] = cv_results['std_train_score']\n",
        "    results['mean_val_score'] = cv_results['mean_test_score']\n",
        "    #results['std_val_score'] = cv_results['std_test_score']\n",
        "    results['rank_val_score'] = cv_results['rank_test_score']\n",
        "\n",
        "    results = results.sort_values(['mean_val_score'], ascending=False)\n",
        "    return results"
      ],
      "metadata": {
        "id": "2_LjdRcrjAIq"
      },
      "execution_count": null,
      "outputs": []
    },
    {
      "cell_type": "code",
      "source": [
        "cv_results_to_df(search.cv_results_)"
      ],
      "metadata": {
        "colab": {
          "base_uri": "https://localhost:8080/",
          "height": 424
        },
        "id": "7wBUDnTdjBly",
        "outputId": "5c9d10bb-6c24-476e-e6e8-e30daef68475"
      },
      "execution_count": null,
      "outputs": [
        {
          "output_type": "execute_result",
          "data": {
            "text/html": [
              "<div>\n",
              "<style scoped>\n",
              "    .dataframe tbody tr th:only-of-type {\n",
              "        vertical-align: middle;\n",
              "    }\n",
              "\n",
              "    .dataframe tbody tr th {\n",
              "        vertical-align: top;\n",
              "    }\n",
              "\n",
              "    .dataframe thead th {\n",
              "        text-align: right;\n",
              "    }\n",
              "</style>\n",
              "<table border=\"1\" class=\"dataframe\">\n",
              "  <thead>\n",
              "    <tr style=\"text-align: right;\">\n",
              "      <th></th>\n",
              "      <th>class_weight</th>\n",
              "      <th>criterion</th>\n",
              "      <th>max_depth</th>\n",
              "      <th>max_features</th>\n",
              "      <th>min_samples_leaf</th>\n",
              "      <th>splitter</th>\n",
              "      <th>mean_val_score</th>\n",
              "      <th>rank_val_score</th>\n",
              "    </tr>\n",
              "  </thead>\n",
              "  <tbody>\n",
              "    <tr>\n",
              "      <th>300</th>\n",
              "      <td>None</td>\n",
              "      <td>entropy</td>\n",
              "      <td>2</td>\n",
              "      <td>0.75</td>\n",
              "      <td>1</td>\n",
              "      <td>best</td>\n",
              "      <td>0.784864</td>\n",
              "      <td>1</td>\n",
              "    </tr>\n",
              "    <tr>\n",
              "      <th>302</th>\n",
              "      <td>None</td>\n",
              "      <td>entropy</td>\n",
              "      <td>2</td>\n",
              "      <td>0.75</td>\n",
              "      <td>5</td>\n",
              "      <td>best</td>\n",
              "      <td>0.784864</td>\n",
              "      <td>1</td>\n",
              "    </tr>\n",
              "    <tr>\n",
              "      <th>304</th>\n",
              "      <td>None</td>\n",
              "      <td>entropy</td>\n",
              "      <td>2</td>\n",
              "      <td>0.75</td>\n",
              "      <td>10</td>\n",
              "      <td>best</td>\n",
              "      <td>0.784864</td>\n",
              "      <td>1</td>\n",
              "    </tr>\n",
              "    <tr>\n",
              "      <th>306</th>\n",
              "      <td>None</td>\n",
              "      <td>entropy</td>\n",
              "      <td>2</td>\n",
              "      <td>1.00</td>\n",
              "      <td>1</td>\n",
              "      <td>best</td>\n",
              "      <td>0.784864</td>\n",
              "      <td>1</td>\n",
              "    </tr>\n",
              "    <tr>\n",
              "      <th>310</th>\n",
              "      <td>None</td>\n",
              "      <td>entropy</td>\n",
              "      <td>2</td>\n",
              "      <td>1.00</td>\n",
              "      <td>10</td>\n",
              "      <td>best</td>\n",
              "      <td>0.784864</td>\n",
              "      <td>1</td>\n",
              "    </tr>\n",
              "    <tr>\n",
              "      <th>...</th>\n",
              "      <td>...</td>\n",
              "      <td>...</td>\n",
              "      <td>...</td>\n",
              "      <td>...</td>\n",
              "      <td>...</td>\n",
              "      <td>...</td>\n",
              "      <td>...</td>\n",
              "      <td>...</td>\n",
              "    </tr>\n",
              "    <tr>\n",
              "      <th>293</th>\n",
              "      <td>None</td>\n",
              "      <td>entropy</td>\n",
              "      <td>2</td>\n",
              "      <td>0.25</td>\n",
              "      <td>10</td>\n",
              "      <td>random</td>\n",
              "      <td>0.453054</td>\n",
              "      <td>379</td>\n",
              "    </tr>\n",
              "    <tr>\n",
              "      <th>193</th>\n",
              "      <td>None</td>\n",
              "      <td>gini</td>\n",
              "      <td>2</td>\n",
              "      <td>0.25</td>\n",
              "      <td>1</td>\n",
              "      <td>random</td>\n",
              "      <td>0.453054</td>\n",
              "      <td>379</td>\n",
              "    </tr>\n",
              "    <tr>\n",
              "      <th>197</th>\n",
              "      <td>None</td>\n",
              "      <td>gini</td>\n",
              "      <td>2</td>\n",
              "      <td>0.25</td>\n",
              "      <td>10</td>\n",
              "      <td>random</td>\n",
              "      <td>0.453054</td>\n",
              "      <td>379</td>\n",
              "    </tr>\n",
              "    <tr>\n",
              "      <th>291</th>\n",
              "      <td>None</td>\n",
              "      <td>entropy</td>\n",
              "      <td>2</td>\n",
              "      <td>0.25</td>\n",
              "      <td>5</td>\n",
              "      <td>random</td>\n",
              "      <td>0.453054</td>\n",
              "      <td>379</td>\n",
              "    </tr>\n",
              "    <tr>\n",
              "      <th>289</th>\n",
              "      <td>None</td>\n",
              "      <td>entropy</td>\n",
              "      <td>2</td>\n",
              "      <td>0.25</td>\n",
              "      <td>1</td>\n",
              "      <td>random</td>\n",
              "      <td>0.453054</td>\n",
              "      <td>379</td>\n",
              "    </tr>\n",
              "  </tbody>\n",
              "</table>\n",
              "<p>384 rows × 8 columns</p>\n",
              "</div>"
            ],
            "text/plain": [
              "    class_weight criterion  max_depth  ...  splitter  mean_val_score rank_val_score\n",
              "300         None   entropy          2  ...      best        0.784864              1\n",
              "302         None   entropy          2  ...      best        0.784864              1\n",
              "304         None   entropy          2  ...      best        0.784864              1\n",
              "306         None   entropy          2  ...      best        0.784864              1\n",
              "310         None   entropy          2  ...      best        0.784864              1\n",
              "..           ...       ...        ...  ...       ...             ...            ...\n",
              "293         None   entropy          2  ...    random        0.453054            379\n",
              "193         None      gini          2  ...    random        0.453054            379\n",
              "197         None      gini          2  ...    random        0.453054            379\n",
              "291         None   entropy          2  ...    random        0.453054            379\n",
              "289         None   entropy          2  ...    random        0.453054            379\n",
              "\n",
              "[384 rows x 8 columns]"
            ]
          },
          "metadata": {},
          "execution_count": 81
        }
      ]
    },
    {
      "cell_type": "code",
      "source": [
        "search.best_score_"
      ],
      "metadata": {
        "colab": {
          "base_uri": "https://localhost:8080/"
        },
        "id": "C-E8JXRMjC8i",
        "outputId": "9e868743-af2f-451d-fc17-6c91c8aa8856"
      },
      "execution_count": null,
      "outputs": [
        {
          "output_type": "execute_result",
          "data": {
            "text/plain": [
              "0.7848635531983021"
            ]
          },
          "metadata": {},
          "execution_count": 82
        }
      ]
    },
    {
      "cell_type": "code",
      "source": [
        "model = search.best_estimator_"
      ],
      "metadata": {
        "id": "pqjmGyFkjEXa"
      },
      "execution_count": null,
      "outputs": []
    },
    {
      "cell_type": "code",
      "source": [
        "model"
      ],
      "metadata": {
        "colab": {
          "base_uri": "https://localhost:8080/"
        },
        "id": "3Njm6bQ-jFwJ",
        "outputId": "08022f6c-51e2-49c8-9517-02f84b6a4038"
      },
      "execution_count": null,
      "outputs": [
        {
          "output_type": "execute_result",
          "data": {
            "text/plain": [
              "DecisionTreeClassifier(criterion='entropy', max_depth=2, max_features=0.75,\n",
              "                       random_state=42)"
            ]
          },
          "metadata": {},
          "execution_count": 84
        }
      ]
    },
    {
      "cell_type": "code",
      "source": [
        "final_pred = search.predict(X_test_new)"
      ],
      "metadata": {
        "id": "iNvPlitpjHIg"
      },
      "execution_count": null,
      "outputs": []
    },
    {
      "cell_type": "code",
      "source": [
        "scores = cross_val_score(search, X_test_new, y_test, cv=5)\n",
        "print(\"Mean cross-validation score: %.4f\" % scores.mean())"
      ],
      "metadata": {
        "colab": {
          "base_uri": "https://localhost:8080/"
        },
        "id": "VCGFF7F0jIkv",
        "outputId": "e5cfbfe1-180a-4576-b3ab-e15c2d859164"
      },
      "execution_count": null,
      "outputs": [
        {
          "output_type": "stream",
          "name": "stdout",
          "text": [
            "Fitting 10 folds for each of 384 candidates, totalling 3840 fits\n",
            "Fitting 10 folds for each of 384 candidates, totalling 3840 fits\n",
            "Fitting 10 folds for each of 384 candidates, totalling 3840 fits\n",
            "Fitting 10 folds for each of 384 candidates, totalling 3840 fits\n",
            "Fitting 10 folds for each of 384 candidates, totalling 3840 fits\n",
            "Mean cross-validation score: 0.7888\n"
          ]
        }
      ]
    },
    {
      "cell_type": "markdown",
      "metadata": {
        "id": "Te9gGGLEpXRG"
      },
      "source": [
        "## 3.5: Performance estimation"
      ]
    },
    {
      "cell_type": "code",
      "metadata": {
        "id": "YV_35bEupbfs",
        "colab": {
          "base_uri": "https://localhost:8080/"
        },
        "outputId": "57e1a9a2-8f36-4926-86ab-4747868d040f"
      },
      "source": [
        "from sklearn.model_selection import cross_val_score, KFold\n",
        "kfold = KFold(n_splits=10)\n",
        "results = cross_val_score(clf, X_test_new, y_test, cv=kfold)\n",
        "print(\"Accuracy: %.2f%% (%.2f%%)\" % (results.mean()*100, results.std()*100))"
      ],
      "execution_count": null,
      "outputs": [
        {
          "output_type": "stream",
          "name": "stdout",
          "text": [
            "Accuracy: 84.75% (1.29%)\n"
          ]
        }
      ]
    },
    {
      "cell_type": "markdown",
      "metadata": {
        "id": "bPiErnUaTQSk"
      },
      "source": [
        "# Question 4: Uncle Steve's Wind Farm"
      ]
    },
    {
      "cell_type": "markdown",
      "metadata": {
        "id": "NzLLQCmKTk9E"
      },
      "source": [
        "## Instructions\n",
        "\n",
        "\n",
        "Uncle Steve has invested in wind. He's built a BIG wind farm with a total of  700 turbines. He's been running the farm for a couple of years now and things are going well. He sells the power generated by the farm to the Kingston government and makes a tidy profit. And, of course, he has been gathering data about the turbines' operations.\n",
        "\n",
        "One area of concern, however, is the cost of maintenece. While the turbines are fairly robust, it seems like one breaks/fails every couple of days. When a turbine fails, it usually costs around \\$20,000 to repair it. Yikes!\n",
        "\n",
        "Currently, Uncle Steve is not doing any preventative maintenance. He just waits until a turbine fails, and then he fixes it. But Uncle Steve has recently learned that if he services a turbine *before* it fails, it will only cost around $2,000. \n",
        "\n",
        "Obviously, there is a potential to save a lot of money here. But first, Uncle Steve would need to figure out *which* turbines are about to fail. Uncle Steve being Uncle Steve, he wants to use ML to build a predictive maintenance model. The model will alert Uncle Steve to potential turbine failures before they happen, giving Uncle Steve a chance to perform an inspection on the turbine and then fix the turbine before it fails. Uncle Steve plans to run the model every morning. For all the turbines that the model predicts will fail, Uncle Steve will order an inspection (which cost a flat \\$500, no matter if the turbine was in good health or not; the \\$500 would not be part of the $2,000 service cost). For the rest of the turbines, Uncle Steve will do nothing.\n",
        "\n",
        "Uncle Steve has used the last few year's worth of operation data to build and assess a model to predict which turbines will fail on any given day. (The data includes useful features like sensor readings, power output, weather, and many more, but those are not important for now.) In fact, he didn't stop there: he built and assessed two models. One model uses using deep learning (in this case, RNNs), and the other uses random forests.\n",
        "\n",
        "He's tuned the bejeebers out of each model and is comfortable that he has found the best-performing version of each. Both models seem really good: both have accuracy scores > 99%. The RNN has better recall, but Uncle Steve is convinced that the random forest model will be better for him since it has better precision. Just to be sure, he has hired you to double check his calculations. \n",
        "\n",
        "**Your task**\n",
        "\n",
        " Which model will save Uncle Steve more money? Justify.\n",
        "\n",
        "\n",
        "In addition to the details above, here is the assessment of each model:\n",
        "\n",
        "- Confusion matrix for the random forest:\n",
        "\n",
        "|         | Predicted Fail           | Predicted No Fail  |\n",
        "| ------------- |------------| -----:|\n",
        "| **Actual Fail**      | 201 | 55 |\n",
        "| **Actual No Fail**   | 50 | 255195 |\n",
        "\n",
        "- Confusion matrix for the RNN:\n",
        "\n",
        "|         | Predicted Fail           | Predicted No Fail  |\n",
        "| ------------- |------------| -----:|\n",
        "| **Actual Fail**      | 226 | 30 |\n",
        "| **Actual No Fail**   | 1200 | 254045 |\n",
        "\n",
        "\n",
        "**Marking**\n",
        "\n",
        "- *Quality*. Response is well-justified and convincing. \n",
        "- *Style*. Response uses proper grammar, spelling, and punctuation. Response is clear and professional. Response is complete, but not overly-verbose. Response follows length guidelines.\n",
        "\n",
        "\n",
        "\n",
        "**Tips**\n",
        "\n",
        "- Figure out how much Uncle Steve is currently (i.e., without any predictive maintinance models) paying in maintenance costs.\n",
        "- Use the information provided above to create a cost matrix.\n",
        "- Use the cost matrix and the confusion matrices to determine the costs of each model.\n",
        "- The cost of an inspection is the same, no matter if the turbine is in good condition or is about to fail.\n",
        "- If the inspection determines that a turbine is about to fail, then it will be fixed right then and there for the additional fee.\n",
        "- For simplicity, assume the inspections are perfect: i.e., that inspecting a turbine will definitely catch any problems that might exist, and won't accidentally flag an otherwise-healthy turbine.\n",
        "\n"
      ]
    },
    {
      "cell_type": "markdown",
      "metadata": {
        "id": "nAf1SIeKTkfl"
      },
      "source": [
        "![image.png](data:image/png;base64,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)\n"
      ]
    }
  ]
}